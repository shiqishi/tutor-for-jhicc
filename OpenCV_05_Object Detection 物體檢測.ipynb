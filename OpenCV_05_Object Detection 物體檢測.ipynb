{
 "cells": [
  {
   "cell_type": "raw",
   "metadata": {},
   "source": [
    "'''\n",
    "\n",
    ">> 物體檢測：靜態圖像\n",
    "    >> Object Detection: Static Image\n",
    "\n",
    "'''"
   ]
  },
  {
   "cell_type": "raw",
   "metadata": {},
   "source": [
    "'''\n",
    "\n",
    ">> 物體檢測：靜態圖像 分類\n",
    "    >> Object Detection: Static Image classfication\n",
    "\n",
    "'''"
   ]
  },
  {
   "cell_type": "markdown",
   "metadata": {},
   "source": [
    "<img src=\"https://upload.wikimedia.org/wikipedia/commons/thumb/3/38/Detected-with-YOLO--Schreibtisch-mit-Objekten.jpg/1280px-Detected-with-YOLO--Schreibtisch-mit-Objekten.jpg\" width=\"90%\"> "
   ]
  },
  {
   "cell_type": "markdown",
   "metadata": {},
   "source": [
    "<img src=\"https://gitcdn.xyz/cdn/Tony607/blog_statics/aa67195320e614e32bba164ce75f780337cbf060/images/object-detection/custom_detection.png\" width=\"90%\"> "
   ]
  },
  {
   "cell_type": "raw",
   "metadata": {},
   "source": [
    "'''\n",
    "\n",
    ">> 物體檢測：動態圖像\n",
    "    >> Object Detection: Motion Image\n",
    "\n",
    "'''"
   ]
  },
  {
   "cell_type": "markdown",
   "metadata": {},
   "source": [
    "<img src=\"https://s3-ap-south-1.amazonaws.com/av-blog-media/wp-content/uploads/2018/06/OD.png\" width=\"90%\"> "
   ]
  },
  {
   "cell_type": "markdown",
   "metadata": {},
   "source": [
    "<img src=\"http://www.cs.cmu.edu/~tmalisie/projects/iccv11/person_priming-01.jpg\" width=\"90%\"> "
   ]
  },
  {
   "cell_type": "raw",
   "metadata": {},
   "source": [
    "'''\n",
    "\n",
    ">> 自動駕駛汽車 應用\n",
    "    >> Self-Driving Car Application \n",
    "    \n",
    "'''"
   ]
  },
  {
   "cell_type": "raw",
   "metadata": {},
   "source": [
    "'''\n",
    "\n",
    ">> 了解一下 圖像識別 與 目標檢測 簡史\n",
    "    >> A Brief History of Image Recognition and Object Detection\n",
    "\n",
    "'''"
   ]
  },
  {
   "cell_type": "raw",
   "metadata": {},
   "source": [
    "'''\n",
    "\n",
    ">> 故事始於  - 2001年 \n",
    "    >> 這一年，Paul Viola 和 Michael Jones 發明了一種有效的人臉檢測算法 Face Detection Algorithm\n",
    "    >> Demo 顯示在網絡攝像 WebCam 機, 檢測到面部 Faces detected\n",
    "    >> 演示 是當時計算機視覺及其潛力的最令人驚嘆的 \n",
    "    >> 很快 \n",
    "    >> 在 OpenCV中 實現\n",
    "        >> 人臉檢測 成為 Viola和 Jones算法的 同義詞\n",
    "\n",
    "    >> 每隔幾年就會出現一個新想法 new idea\n",
    "    >> 迫使人們停下來注意\n",
    "    >> 對象檢測中 Object Detection\n",
    "        >> 這個想法是在 2005年由 Navneet Dalal和 Bill Triggs撰寫的\n",
    "            >> 特徵描述符 Feature Descriptor\n",
    "            >> 定向梯度直方圖 Histograms of Oriented \n",
    "                 >> Gradients（HOG） \n",
    "                 >> 在 行人檢測中 Pedestrian Detection明顯\n",
    "                     >> 優於現有算法 existing algorithms \n",
    "\n",
    "    >> 每隔十年 左右出現一個 新的想法 New Idea \n",
    "        >> 是 如此有效 和 強大\n",
    "        >> 放棄它之前的所有東西，並全心全意地接受它\n",
    "        >> 深度學習 Deep Learning 是這個十年的想法\n",
    "            >> 深度學習算法 Deep Learning algorithms\n",
    "                >> 已經存在了很長時間\n",
    "            >> 但在 2012年\n",
    "                >> ImageNet 大規模視覺識別挑戰賽（ILSVRC）上取得了巨大成功 ,成為計算機視覺 Computer Vision的主流 mainstream\n",
    "                >> 在那場比賽中\n",
    "                >> 基於 Alex Krizhevsky的 深度學習的算法\n",
    "                    >> Ilya Sutskever 和 Geoffrey Hinton 以驚人的85％ 準確度震撼計算機視覺 世界 \n",
    "                       >> 比贏得第二名的算法好 11％！\n",
    "                       >> 在ILSVRC 2012中，這是唯一基於 深度學習的條目\n",
    "                       \n",
    "         >> 2013年\n",
    "            >> 隨著 圖像識別 image recognition 的 巨大成功\n",
    "            >> 基於 深度學習的 對象檢測 object detection 是不可避免的\n",
    "            >> 像快速 Faster R-CNN (R-CNN) 這樣的 技術會在多個對像類上產生令人驚嘆的結果\n",
    "            >> 我們將在後面的文章中了解這些內容\n",
    "                >> 但是現在請記住\n",
    "                >> 如果您沒有為應用程序\n",
    "                    >> 查看基於深度學習的圖像識別 image recognition和對象檢測算法 object detection algorithms , 可能會錯失獲得更好結果的巨大機會。\n",
    "\n",
    "\n",
    "        >> 了解 傳統的計算機視覺技術 Traditional computer vision techniques\n",
    "            >> 理解圖像識別\n",
    "\n",
    "'''"
   ]
  },
  {
   "cell_type": "raw",
   "metadata": {},
   "source": [
    "'''\n",
    "\n",
    ">> 圖像識別 Image Recognition （又名圖像分類 Image Classification）\n",
    "\n",
    "    >> 圖像識別算法 Image Recognition Algorithm\n",
    "       >> 也稱為 圖像分類器 Image Classification\n",
    "        >> 將圖像 Image （或圖像的片）作為 輸入\n",
    "            >> 並 輸出圖像 包含的內容\n",
    "        >> 換句話 說\n",
    "            >> 輸出是類標籤（例如 \" cat \" ， \" dog \" ，\" table \"）\n",
    "            \n",
    "    >> 圖像識別算法 Image Recognition Algorithm 如何知道圖像的內容？\n",
    "        >> 必須訓練算法來學習不同類之間的差異\n",
    "        >> 如果想在圖像 中 找到貓\n",
    "            >> 需要訓練一個 圖像識別算法 Image Recognition Algorithm\n",
    "                >> 其中包含數以千計的貓圖像和數千張不含貓的 背景圖像\n",
    "                >> 這個算法\n",
    "                    >> 只能理解它學到的 對象/類 objects / classes it has learned\n",
    "\n",
    "    >> 為簡化起見\n",
    "        >> 將只關注兩類（二元）分類器 Two-Class (Binary Classfication) \n",
    "        >> 這是一個非常有限的假設\n",
    "        >> 但請記住\n",
    "            >> 許多流行的物體探測器  object detectors \n",
    "                >> （例如人臉探測器 face detector 和 行人探測器 pedestrian detector）都有一個 二元分類器\n",
    "            >> 例如\n",
    "                >> 在面部檢測器 face detector 內部是 圖像分類器 image classifier\n",
    "                >> 表示圖像的是面部 Face 還是背景 Background\n",
    "\n",
    "'''"
   ]
  },
  {
   "cell_type": "raw",
   "metadata": {},
   "source": [
    "'''\n",
    "\n",
    ">> 圖像 分類器\n",
    "    >> Image Classifier\n",
    "'''"
   ]
  },
  {
   "cell_type": "raw",
   "metadata": {},
   "source": [
    "'''\n",
    "\n",
    ">> 傳統圖像分類器中 涉及的步驟\n",
    "    >> Diagram Illustrates\n",
    "    \n",
    "'''"
   ]
  },
  {
   "cell_type": "markdown",
   "metadata": {},
   "source": [
    "<img src=\"https://www.learnopencv.com/wp-content/uploads/2016/11/image-classification-pipeline.jpg\" width=\"90%\"> "
   ]
  },
  {
   "cell_type": "raw",
   "metadata": {},
   "source": [
    "'''\n",
    "\n",
    ">> 計算機視覺圖像分類算法遵循 一 流程\n",
    "    >> 基於深度學習的算法完全繞過了特徵提取步驟\n",
    "    >>  Deep Learning based algorithms bypass the feature extraction step completely\n",
    "\n",
    "\n",
    "'''"
   ]
  },
  {
   "cell_type": "raw",
   "metadata": {},
   "source": [
    "'''\n",
    "\n",
    ">> 步驟1 ：預處理\n",
    "    >> Step 1 : Preprocessing\n",
    "\n",
    "'''"
   ]
  },
  {
   "cell_type": "raw",
   "metadata": {},
   "source": [
    "'''\n",
    "\n",
    ">> 通常對 輸入圖像 input image  進行預處理 pre-processed - \n",
    "    >> 以標準化 對比度 normalize contrast 和 亮度 效果 brightness effects\n",
    "    >> 一個非常常見的 預處理步驟是\n",
    "        >> 減去 subtract  圖像強度的 平均值 mean of image intensities 並除以 標準偏差 standard deviation\n",
    "    >> 有時\n",
    "        >> 伽馬校正 Gamma Correction會產生 稍微好一點的結果 \n",
    "        >> 在 處理彩色圖像時\n",
    "            >> 色彩空間 變換 color space transformation\n",
    "            >> 例如\n",
    "                >> RGB 到 LAB 色彩空間 color space\n",
    "                    >> 可以幫助獲得更好的結果\n",
    "\n",
    "    >> 請注意，規定哪些預處理步驟是好的\n",
    "        >> 原因是沒有人事先知道\n",
    "            >> 哪些預處理步驟會產生良好的結果\n",
    "            >> 嘗試了一些不同的\n",
    "                >> 有些可能會給出稍微好一些的結果\n",
    "                \n",
    "    >> 預處理 pre-processing\n",
    "        >> 做出了合理的猜測 並使用了 反複試驗。\n",
    "\n",
    "    >> 作為預處理 pre-processing 的一部分\n",
    "        >> 裁剪 cropped 輸入圖像 或 圖像塊\n",
    "        >> 並將其調整大小 resized \n",
    "            >> 為固定大小 fixed sized image\n",
    "        \n",
    "        >> 這很重要\n",
    "            >> 因為下一步\n",
    "                >> 特徵提取 feature extraction\n",
    "                    >> 是在固定大小 fixed sized image 的圖像上執行\n",
    "                    \n",
    "'''"
   ]
  },
  {
   "cell_type": "raw",
   "metadata": {},
   "source": [
    "'''\n",
    "\n",
    ">> 導入 相關 函式庫 \n",
    "    >> OpenCV 庫 \n",
    "    >> Numpy 庫 \n",
    "    \n",
    "'''"
   ]
  },
  {
   "cell_type": "code",
   "execution_count": 1,
   "metadata": {},
   "outputs": [],
   "source": [
    "%matplotlib inline\n",
    "import cv2\n",
    "import numpy as np "
   ]
  },
  {
   "cell_type": "code",
   "execution_count": 2,
   "metadata": {},
   "outputs": [],
   "source": [
    "# 加載圖像  \" imread \" Load an image 指定圖像路徑的 \n",
    "input = cv2.imread('./data/input.jpg')\n",
    "\n",
    "#  ' input.jpg ' 文件 名\n",
    "#  \n",
    "\n",
    "# 圖像變量，使用 'imshow' \n",
    "# 第一個參數 是 圖像窗口  image window 中 顯示的標題  title\n",
    "# 第二個參數 是 圖像變量\n",
    "cv2.imshow('Hello Computer Vision ', input)\n",
    "\n",
    "#  WaitKey '允許 在圖像窗口 打開時 輸入信息\n",
    "#  leaving it blank 留空是等待之前  按下任何鍵 Continuous\n",
    "#  放置數字 0 , 除外可以 指定 延遲\n",
    "#  保持 窗口 打開多長時間(這時間以毫秒為單位) \n",
    "#  (time is in milliseconds )\n",
    "cv2.waitKey()\n",
    "\n",
    "# 關閉所有打開的窗口\n",
    "# 未能放置此program 將導致程序 hang up \n",
    "\n",
    "cv2.destroyAllWindows()"
   ]
  },
  {
   "cell_type": "code",
   "execution_count": 3,
   "metadata": {},
   "outputs": [
    {
     "name": "stdout",
     "output_type": "stream",
     "text": [
      "Height of Image: 830 pixels\n",
      "Width of Image:  1245 pixels\n",
      "Channel of Image:  3 Channels\n"
     ]
    }
   ],
   "source": [
    "# print 圖像的每個 維度\n",
    "\n",
    "print(('Height of Image:')  , int(input.shape[0]), 'pixels')\n",
    "print(('Width of Image: ')  , int(input.shape[1]), 'pixels')\n",
    "print(('Channel of Image: '), int(input.shape[2]),'Channels')"
   ]
  },
  {
   "cell_type": "code",
   "execution_count": 4,
   "metadata": {},
   "outputs": [
    {
     "data": {
      "text/plain": [
       "True"
      ]
     },
     "execution_count": 4,
     "metadata": {},
     "output_type": "execute_result"
    }
   ],
   "source": [
    "# 使用 imwrite 指定文件名 和  保存的圖像\n",
    "\n",
    "cv2.imwrite('data/input.jpg', input)"
   ]
  },
  {
   "cell_type": "raw",
   "metadata": {},
   "source": [
    "'''\n",
    "\n",
    ">> 色彩空間\n",
    "    >> Color Spaces\n",
    "\n",
    "    >> 色彩空間中的圖像 - RGB 紅,綠, 藍 - 存儲\n",
    "\n",
    "\n",
    "    >> OpenCV\n",
    "        >> RGB >> 是 BGR \n",
    "\n",
    "    >> 另一個有用的色彩空間\n",
    "        >> HSV\n",
    "        >> 在顏色過濾color filtering 中非常有用\n",
    "        \n",
    "'''"
   ]
  },
  {
   "cell_type": "code",
   "execution_count": 5,
   "metadata": {},
   "outputs": [],
   "source": [
    "image = cv2.imread('./data/burano.jpg')\n",
    "gray_img = cv2.cvtColor(image, cv2.COLOR_BGR2GRAY)\n",
    "hsv_image = cv2.cvtColor(image, cv2.COLOR_BGR2HSV)\n",
    "\n",
    "cv2.imshow('HSV image', hsv_image)\n",
    "\n",
    "#  x-y Dimensionen 頻道 x-y Dimensionen Channel\n",
    "\n",
    "cv2.imshow('Hue channel', hsv_image[:, :, 0])\n",
    "cv2.imshow('Saturation channel', hsv_image[:, :, 1])\n",
    "cv2.imshow('Value channel', hsv_image[:, :, 2])\n",
    "\n",
    "cv2.waitKey()\n",
    "cv2.destroyAllWindows()"
   ]
  },
  {
   "cell_type": "code",
   "execution_count": 6,
   "metadata": {},
   "outputs": [
    {
     "name": "stdout",
     "output_type": "stream",
     "text": [
      "(181, 279, 3)\n",
      "(181, 279)\n"
     ]
    }
   ],
   "source": [
    "image = cv2.imread('./data/burano.jpg')\n",
    "\n",
    "# OpenCV 的 \" split 分割 \" 功能= 將圖像分成每個顏色索引 color index\n",
    "B, G, R = cv2.split(image)\n",
    "\n",
    "print (image.shape)\n",
    "print (B.shape)\n",
    "cv2.imshow(\"burano\",image)\n",
    "cv2.imshow(\"Red\", R)\n",
    "cv2.imshow(\"Green\", G)\n",
    "cv2.imshow(\"Blue\", B)\n",
    "cv2.waitKey(0)\n",
    "cv2.destroyAllWindows()\n",
    "\n",
    "# 重新 製作 - 原始圖像 original image, \n",
    "# merged = cv2.merge([B,G,R]) \n",
    "# cv2.imshow(\"Merged\", merged) \n",
    "\n",
    "# 放大藍色 amplify the blue color \n",
    "# merged = cv2.merge([B+100, G, R])\n",
    "# cv2.imshow(\"Merged with Blue Amplified\", merged) \n",
    "\n",
    "# cv2.waitKey(0)"
   ]
  },
  {
   "cell_type": "code",
   "execution_count": 7,
   "metadata": {},
   "outputs": [],
   "source": [
    "import cv2\n",
    "import numpy as np\n",
    "\n",
    "B, G, R = cv2.split(image)\n",
    "\n",
    "# 創建一個 零矩陣  - matrix of zeros \n",
    "# 圖像尺寸 h x w  - dimensions of the image h x w \n",
    "\n",
    "zeros = np.zeros(image.shape[:2], dtype = \"uint8\")\n",
    "ones = np.ones(image.shape[:2], dtype = \"uint8\")*200\n",
    "\n",
    "cv2.imshow(\"burano\", image)\n",
    "cv2.imshow(\"ones\", cv2.merge([zeros, zeros, ones]))\n",
    "cv2.imshow(\"Red\", cv2.merge([zeros, zeros, R]))\n",
    "cv2.imshow(\"Green\", cv2.merge([zeros, G, zeros]))\n",
    "cv2.imshow(\"Blue\", cv2.merge([B, zeros, zeros]))\n",
    "\n",
    "cv2.waitKey(0)\n",
    "cv2.destroyAllWindows()"
   ]
  },
  {
   "cell_type": "code",
   "execution_count": 8,
   "metadata": {},
   "outputs": [
    {
     "data": {
      "image/png": "[encoded data removed]",
      "text/plain": [
       "<Figure size 432x288 with 1 Axes>"
      ]
     },
     "metadata": {
      "needs_background": "light"
     },
     "output_type": "display_data"
    },
    {
     "data": {
      "image/png": "[encoded data removed]",
      "text/plain": [
       "<Figure size 432x288 with 1 Axes>"
      ]
     },
     "metadata": {
      "needs_background": "light"
     },
     "output_type": "display_data"
    }
   ],
   "source": [
    "\n",
    "# 導入 matplotlib 來 創建直方圖  - histogram \n",
    "from matplotlib import pyplot as plt\n",
    "\n",
    "image = cv2.imread('data/burano.jpg')\n",
    "\n",
    "\n",
    "# histogram = cv2.calcHist([image], [0], None, [256], [0, 256])\n",
    "\n",
    "# 繪製 直方圖，ravel（）將 2-dim 圖像 - flatens為 - 1-dim 數組 array \n",
    "\n",
    "plt.hist(image.ravel(), 256, [0, 256]);\n",
    "plt.show()\n",
    "\n",
    "# Viewing 單獨的顏色通道 - Separate Color Channels\n",
    "\n",
    "color = ('b', 'g', 'r')\n",
    "\n",
    "# 顏色分開並在直方圖中繪製 每個顏色 \n",
    "\n",
    "for i, col in enumerate(color):\n",
    "    histogram2 = cv2.calcHist([image], [i], None, [256], [0, 256])\n",
    "    plt.plot(histogram2, color = col)\n",
    "    plt.xlim([0,256])\n",
    "    \n",
    "plt.show()"
   ]
  },
  {
   "cell_type": "markdown",
   "metadata": {},
   "source": [
    "**cv2.calcHist(images, channels, mask, histSize, ranges[, hist[, accumulate]])**\n",
    "\n",
    "- images : it is the source image of type uint8 or float32. it should be given in square brackets, ie, \"[img]\".\n",
    "- channels : it is also given in square brackets. It is the index of channel for which we calculate histogram. For example, if input is grayscale image, its value is [0]. For color image, you can pass [0], [1] or [2] to calculate histogram of blue, green or red channel respectively.\n",
    "- mask : mask image. To find histogram of full image, it is given as \"None\". But if you want to find histogram of particular region of image, you have to create a mask image for that and give it as mask. (I will show an example later.)\n",
    "- histSize : this represents our BIN count. Need to be given in square brackets. For full scale, we pass [256].\n",
    "- ranges : this is our RANGE. Normally, it is [0,256].\n",
    "\n"
   ]
  },
  {
   "cell_type": "code",
   "execution_count": 9,
   "metadata": {},
   "outputs": [],
   "source": [
    "image = cv2.imread('data/tobago.jpg')\n",
    "cv2.imshow(\"Tobago\", image) \n",
    "cv2.waitKey(0)\n",
    "cv2.destroyAllWindows()"
   ]
  },
  {
   "cell_type": "raw",
   "metadata": {},
   "source": [
    "'''\n",
    "\n",
    ">> OpenCV繪製\n",
    "    >> 圖像和形狀\n",
    "        >> 製作一個黑色方塊\n",
    "    \n",
    "'''"
   ]
  },
  {
   "cell_type": "code",
   "execution_count": 10,
   "metadata": {},
   "outputs": [],
   "source": [
    "import cv2\n",
    "import numpy as np\n",
    "\n",
    "# 創建一個黑色圖像\n",
    "\n",
    "image = np.zeros((512,512,3), np.uint8)\n",
    "\n",
    "# 創建 黑白製作嗎\n",
    "image_bw = np.zeros((512,512), np.uint8)\n",
    "\n",
    "cv2.imshow(\"Black Rectangle (Color)\", image)\n",
    "cv2.imshow(\"Black Rectangle (B&W)\", image_bw)\n",
    "\n",
    "cv2.waitKey(0)\n",
    "cv2.destroyAllWindows()"
   ]
  },
  {
   "cell_type": "raw",
   "metadata": {},
   "source": [
    "'''\n",
    "\n",
    ">> 在黑色方塊上劃一條線\n",
    "    \n",
    "    >> cv2.line（圖像，起始坐標，結束坐標，顏色，厚度）\n",
    "    >> cv2.line(image, starting cordinates, ending cordinates, color, thickness)\n",
    "\n",
    "'''"
   ]
  },
  {
   "cell_type": "code",
   "execution_count": 11,
   "metadata": {},
   "outputs": [],
   "source": [
    "# 繪製 thickness 為5 像素的對角藍線 - diagonal blue line \n",
    "\n",
    "image = np.zeros((512,512,3), np.uint8)\n",
    "\n",
    "#cv2.line(image, (startposition), (endposition), (Farbe der Linie), Linienbreite)\n",
    "\n",
    "cv2.line(image, (0,0), (511,511), (255,127,0), 5)\n",
    "cv2.line(image, (511,0), (0,511), (255,127,0), 5)\n",
    "cv2.imshow(\"Blue Line\", image)\n",
    "\n",
    "cv2.waitKey(0)\n",
    "cv2.destroyAllWindows()"
   ]
  },
  {
   "cell_type": "raw",
   "metadata": {},
   "source": [
    "'''\n",
    "\n",
    ">> 畫一個矩形 rectangle\n",
    "\n",
    "    >> cv2.rectangle(image, starting vertex, opposite vertex, color, thickness)\n",
    "\n",
    "\n",
    "'''"
   ]
  },
  {
   "cell_type": "code",
   "execution_count": 12,
   "metadata": {},
   "outputs": [],
   "source": [
    "# 畫一個矩形 rectangle\n",
    "\n",
    "image = np.zeros((512,512,3), np.uint8)\n",
    "\n",
    "#  cv2.rectangle(image, starting vertex, opposite vertex, color, thickness)\n",
    "\n",
    "cv2.rectangle(image, (100,100), (300,250), (127,50,127), -1)\n",
    "cv2.imshow(\"Rectangle\", image)\n",
    "cv2.waitKey(0)\n",
    "cv2.destroyAllWindows()"
   ]
  },
  {
   "cell_type": "raw",
   "metadata": {},
   "source": [
    "'''\n",
    "\n",
    ">> 畫一個 圈形 - cirlcles\n",
    "\n",
    "    >> cv2.cirlce(image, center, radius, color, fill)\n",
    "    \n",
    "'''"
   ]
  },
  {
   "cell_type": "code",
   "execution_count": 13,
   "metadata": {},
   "outputs": [],
   "source": [
    "image = np.zeros((512,512,3), np.uint8)\n",
    "\n",
    "#cv2.circle(image, (Zentrum), Radius, (15,75,50), -1) \n",
    "\n",
    "cv2.circle(image, (350, 350), 100, (15,75,50), 10) \n",
    "cv2.imshow(\"Circle\", image)\n",
    "cv2.waitKey(0)\n",
    "cv2.destroyAllWindows()"
   ]
  },
  {
   "cell_type": "code",
   "execution_count": 14,
   "metadata": {},
   "outputs": [
    {
     "name": "stdout",
     "output_type": "stream",
     "text": [
      "(4, 2)\n",
      "(4, 1, 2)\n"
     ]
    }
   ],
   "source": [
    "image = np.zeros((512,512,3), np.uint8)\n",
    "\n",
    "# 定義 四點\n",
    "pts = np.array( [[10,50], [400,50], [90,200], [50,500]], np.int32)\n",
    "\n",
    "print (pts.shape)\n",
    "# reshape 折線所需的形式 重塑我們的  polylines\n",
    "\n",
    "pts = pts.reshape((-1,1,2))\n",
    "print (pts.shape)\n",
    "\n",
    "cv2.polylines(image, [pts], True, (0,0,255), 3)\n",
    "cv2.imshow(\"Polygon\", image)\n",
    "cv2.waitKey(0)\n",
    "cv2.destroyAllWindows()"
   ]
  },
  {
   "cell_type": "markdown",
   "metadata": {},
   "source": [
    "### 添加文字 add with cv2.putText\n",
    "\n",
    "cv2.putText(image, '文字 to Display', bottom left starting point, Font, Font Size, Color, Thickness)\n",
    "\n",
    "- FONT_HERSHEY_SIMPLEX, FONT_HERSHEY_PLAIN\n",
    "- FONT_HERSHEY_DUPLEX,FONT_HERSHEY_COMPLEX \n",
    "- FONT_HERSHEY_TRIPLEX, FONT_HERSHEY_COMPLEX_SMALL\n",
    "- FONT_HERSHEY_SCRIPT_SIMPLEX\n",
    "- FONT_HERSHEY_SCRIPT_COMPLEX"
   ]
  },
  {
   "cell_type": "code",
   "execution_count": 15,
   "metadata": {},
   "outputs": [],
   "source": [
    "image = np.zeros((512,512,3), np.uint8)\n",
    "\n",
    "cv2.putText(image, 'Hello World!', (75,290), cv2.FONT_HERSHEY_COMPLEX, 2, (100,170,0), 3)\n",
    "cv2.imshow(\"Hello Computer Vision!\", image)\n",
    "cv2.waitKey(0)\n",
    "cv2.destroyAllWindows()"
   ]
  },
  {
   "cell_type": "raw",
   "metadata": {},
   "source": [
    "'''\n",
    "\n",
    ">> 銳化 Sharpening\n",
    "    >> 通過改變內核可以實現銳化，其具有加強或強調圖像邊緣的效果\n",
    "\n",
    "'''"
   ]
  },
  {
   "cell_type": "code",
   "execution_count": 17,
   "metadata": {},
   "outputs": [],
   "source": [
    "import cv2\n",
    "import numpy as np\n",
    "\n",
    "image = cv2.imread('data/input.jpg')\n",
    "cv2.imshow('Original', image)\n",
    "\n",
    "# Create our shapening kernel - 創建 shapening 內核\n",
    "# 因為我們沒有規範化 normalize  , 矩陣中的值 sum to 1 \n",
    "\n",
    "kernel_sharpening = np.array([[-1,-1,-1], \n",
    "                              [-1,9,-1], \n",
    "                              [-1,-1,-1]])\n",
    "\n",
    "# input image - 不同的內核應用\n",
    "\n",
    "sharpened = cv2.filter2D(image, -1, kernel_sharpening)\n",
    "\n",
    "cv2.imshow('Image Sharpening', sharpened)\n",
    "\n",
    "cv2.waitKey(0)\n",
    "cv2.destroyAllWindows()"
   ]
  },
  {
   "cell_type": "raw",
   "metadata": {},
   "source": [
    "'''\n",
    "\n",
    ">> 閾值化，二值化和自適應閾值處理\n",
    "    >> 在閾值處理中，將灰度圖像轉換為二進制形式\n",
    "\n",
    "    >>Thresholding, Binarization & Adaptive Thresholding\n",
    "        >> In thresholding, \n",
    "        >> Convert a grey scale image to it's binary \n",
    "\n",
    "'''"
   ]
  },
  {
   "cell_type": "code",
   "execution_count": 19,
   "metadata": {},
   "outputs": [],
   "source": [
    "import cv2\n",
    "import numpy as np\n",
    "\n",
    "# Load our image as greyscale \n",
    "image = cv2.imread('data/gradient.jpg',0)\n",
    "cv2.imshow('Original', image)\n",
    "\n",
    "# 低於127的值變為0（黑色，上面的所有內容都變為255（白色）\n",
    "# Values below 127 goes to 0 (black, everything above goes to 255 (white)\n",
    "\n",
    "ret,thresh1 = cv2.threshold(image, 127, 255, cv2.THRESH_BINARY)\n",
    "cv2.imshow('1 Threshold Binary', thresh1)\n",
    "\n",
    "# 127以下的值變為255，127以上的值變為0（與上面相反）\n",
    "# Values below 127 go to 255 and values above 127 go to 0 (reverse of above)\n",
    "\n",
    "ret,thresh2 = cv2.threshold(image, 127, 255, cv2.THRESH_BINARY_INV)\n",
    "cv2.imshow('2 Threshold Binary Inverse', thresh2)\n",
    "\n",
    "# 高於127的值被截斷（保持）在127（255參數未使用）\n",
    "# Values above 127 are truncated (held) at 127 (the 255 argument is unused)\n",
    "\n",
    "ret,thresh3 = cv2.threshold(image, 127, 255, cv2.THRESH_TRUNC)\n",
    "cv2.imshow('3 THRESH TRUNC', thresh3)\n",
    "\n",
    "# #127以下的值為0，127以上的值不變\n",
    "# Values below 127 go to 0, above 127 are unchanged  \n",
    "\n",
    "ret,thresh4 = cv2.threshold(image, 127, 255, cv2.THRESH_TOZERO)\n",
    "cv2.imshow('4 THRESH TOZERO', thresh4)\n",
    "\n",
    "\n",
    "# 保留在上面，低於127不變，高於127變為0\n",
    "# Resever of above, below 127 is unchanged, above 127 goes to 0\n",
    "\n",
    "ret,thresh5 = cv2.threshold(image, 127, 255, cv2.THRESH_TOZERO_INV)\n",
    "cv2.imshow('5 THRESH TOZERO INV', thresh5)\n",
    "cv2.waitKey(0) \n",
    "    \n",
    "cv2.destroyAllWindows()"
   ]
  },
  {
   "cell_type": "code",
   "execution_count": 20,
   "metadata": {},
   "outputs": [],
   "source": [
    "import cv2\n",
    "import numpy as np\n",
    "\n",
    "# Load 加載 圖像 \n",
    "image = cv2.imread('data/Origin_of_Species.jpg', 0)\n",
    "\n",
    "cv2.imshow('Original', image)\n",
    "cv2.waitKey(0) \n",
    "\n",
    "#  127以下的值變為0（黑色，上面的所有內容都變為255（白色）\n",
    "#  Values below 127 goes to 0 (black, everything above goes to 255 (white)\n",
    "\n",
    "\n",
    "ret,thresh1 = cv2.threshold(image, 127, 255, cv2.THRESH_BINARY)\n",
    "cv2.imshow('Threshold Binary', thresh1)\n",
    "cv2.waitKey(0) \n",
    "\n",
    "# 在 消除噪點時模糊圖像 是一種很好的做法\n",
    "# It's good practice to blur images as it removes noise\n",
    "\n",
    "\n",
    "image = cv2.GaussianBlur(image, (3, 3), 0)\n",
    "\n",
    "# ＃使用adaptiveThreshold\n",
    "# Using adaptiveThreshold\n",
    "\n",
    "thresh = cv2.adaptiveThreshold(image, 255, cv2.ADAPTIVE_THRESH_MEAN_C, \n",
    "                               cv2.THRESH_BINARY, 3, 5) \n",
    "cv2.imshow(\"Adaptive Mean Thresholding\", thresh) \n",
    "cv2.waitKey(0) \n",
    "\n",
    "_, th2 = cv2.threshold(image, 0, 255, cv2.THRESH_BINARY + cv2.THRESH_OTSU)\n",
    "cv2.imshow(\"Otsu's Thresholding\", thresh) \n",
    "cv2.waitKey(0) \n",
    "\n",
    "# Otsu's  高斯濾波後的 閾值處理\n",
    "# Otsu's thresholding after Gaussian filtering\n",
    "\n",
    "\n",
    "blur = cv2.GaussianBlur(image, (5,5), 0)\n",
    "_, th3 = cv2.threshold(blur, 0, 255, cv2.THRESH_BINARY + cv2.THRESH_OTSU)\n",
    "cv2.imshow(\"Guassian Otsu's Thresholding\", thresh) \n",
    "cv2.waitKey(0) \n",
    "\n",
    "cv2.destroyAllWindows()"
   ]
  },
  {
   "cell_type": "raw",
   "metadata": {},
   "source": [
    "'''\n",
    "\n",
    ">> 膨脹，侵蝕，開啟 和 關閉\n",
    "\n",
    "    >> Dilation, Erosion, .MORPH_OPEN and MORPH_CLOSE \n",
    "\n",
    "'''"
   ]
  },
  {
   "cell_type": "code",
   "execution_count": 21,
   "metadata": {},
   "outputs": [],
   "source": [
    "import cv2\n",
    "import numpy as np\n",
    "\n",
    "image = cv2.imread('data/opencv_inv.png', 0)\n",
    "\n",
    "cv2.imshow('Original', image)\n",
    "cv2.waitKey(0)\n",
    "\n",
    "# 定義 內核大小\n",
    "# define our kernel size\n",
    "\n",
    "\n",
    "kernel = np.ones((5,5), np.uint8)\n",
    "\n",
    "\n",
    "# 侵蝕 做法\n",
    "# using - erode\n",
    "\n",
    "\n",
    "erosion = cv2.erode(image, kernel, iterations = 1)\n",
    "cv2.imshow('Erosion', erosion)\n",
    "cv2.waitKey(0)\n",
    "\n",
    "# \n",
    "dilation = cv2.dilate(image, kernel, iterations = 1)\n",
    "cv2.imshow('Dilation', dilation)\n",
    "cv2.waitKey(0)\n",
    "\n",
    "\n",
    "# MORPH_OPEN 有助於 消除噪音\n",
    "# MORPH_OPEN  - Good for removing noise\n",
    "\n",
    "\n",
    "opening = cv2.morphologyEx(image, cv2.MORPH_OPEN, kernel)\n",
    "cv2.imshow('Opening', opening)\n",
    "cv2.waitKey(0)\n",
    "\n",
    "# MORPH_CLOSE  - 有助於消除噪音\n",
    "# MORPH_CLOSE  - Good for removing noise\n",
    "\n",
    "\n",
    "closing = cv2.morphologyEx(image, cv2.MORPH_CLOSE, kernel)\n",
    "cv2.imshow('Closing', closing)\n",
    "cv2.waitKey(0)\n",
    "\n",
    "\n",
    "cv2.destroyAllWindows()"
   ]
  },
  {
   "cell_type": "raw",
   "metadata": {},
   "source": [
    "'''\n",
    "\n",
    ">> 邊緣檢測 和 圖像梯度\n",
    "\n",
    "    >> Edge Detection & Image Gradients\n",
    "\n",
    "'''"
   ]
  },
  {
   "cell_type": "code",
   "execution_count": 22,
   "metadata": {},
   "outputs": [],
   "source": [
    "import cv2\n",
    "import numpy as np\n",
    "\n",
    "image = cv2.imread('data/input.jpg',0)\n",
    "\n",
    "height, width = image.shape\n",
    "\n",
    "# 提取 Sobel 邊緣 \n",
    "# Extract Sobel Edges\n",
    "\n",
    "sobel_x = cv2.Sobel(image, cv2.CV_64F, 0, 1, ksize=5)\n",
    "sobel_y = cv2.Sobel(image, cv2.CV_64F, 1, 0, ksize=5)\n",
    "\n",
    "cv2.imshow('Original', image)\n",
    "cv2.waitKey(0)\n",
    "cv2.imshow('Sobel X', sobel_x)\n",
    "cv2.waitKey(0)\n",
    "cv2.imshow('Sobel Y', sobel_y)\n",
    "cv2.waitKey(0)\n",
    "\n",
    "sobel_OR = cv2.bitwise_or(sobel_x, sobel_y)\n",
    "cv2.imshow('sobel_OR', sobel_OR)\n",
    "cv2.waitKey(0)\n",
    "\n",
    "laplacian = cv2.Laplacian(image, cv2.CV_64F)\n",
    "cv2.imshow('Laplacian', laplacian)\n",
    "cv2.waitKey(0)\n",
    "\n",
    "# 需要提供兩個值：threshold1 和 threshold2 - \n",
    "# 任何大於threshold2的梯度值\n",
    "# 被認為是一個優勢 \n",
    "# 任何低於threshold1的值都被認為不是邊緣\n",
    "# threshold1和threshold2之間\n",
    "# Values基於 方式 - 被分類為邊緣或非邊緣\n",
    "# intensities是“連接”的\n",
    "# 在這種情況下- 任何低於60的梯度值都 被視為非邊緣\n",
    "# 120以上 - 的任何值都被視為邊緣\n",
    "\n",
    "# Canny邊緣檢測 - 使用梯度值 作為 閾值\n",
    "# Canny Edge Detection uses gradient values as thresholds\n",
    "\n",
    "# 第一個閾值 梯度\n",
    "# The first threshold gradient\n",
    "\n",
    "\n",
    "canny = cv2.Canny(image, 50, 120)\n",
    "cv2.imshow('Canny', canny)\n",
    "cv2.waitKey(0)\n",
    "\n",
    "cv2.destroyAllWindows()"
   ]
  },
  {
   "cell_type": "raw",
   "metadata": {},
   "source": [
    "'''\n",
    "\n",
    ">> 透視 變換\n",
    "\n",
    "    >> Perpsective Transform\n",
    "\n",
    "'''"
   ]
  },
  {
   "cell_type": "code",
   "execution_count": 23,
   "metadata": {},
   "outputs": [],
   "source": [
    "import cv2\n",
    "import numpy as np\n",
    "import matplotlib.pyplot as plt\n",
    "\n",
    "image = cv2.imread('data/scan.jpg')\n",
    "\n",
    "cv2.imshow('Original', image)\n",
    "cv2.waitKey(0)\n",
    "\n",
    "# 原始圖像的 4個角 的 坐標\n",
    "# Cordinates of the 4 corners of the original image\n",
    "\n",
    "points_A = np.float32([[320,15], [700,215], [85,610], [530,780]])\n",
    "\n",
    "# 輸出的 4個角 的 坐標 Cordinates\n",
    "# A4紙 - 1：1.41 的 比例 \n",
    "\n",
    "points_B = np.float32([[0,0], [420,0], [0,594], [420,594]])\n",
    " \n",
    "# 兩組 四個點 進行計算 \n",
    "# 透視轉換矩陣，M -  Perspective Transformation matrix, M \n",
    "\n",
    "M = cv2.getPerspectiveTransform(points_A, points_B)\n",
    " \n",
    "warped = cv2.warpPerspective(image, M, (420,594))\n",
    " \n",
    "cv2.imshow('warpPerspective', warped)\n",
    "cv2.waitKey(0)\n",
    "cv2.destroyAllWindows()"
   ]
  },
  {
   "cell_type": "raw",
   "metadata": {},
   "source": [
    "'''\n",
    "\n",
    ">> 仿射變換中\n",
    "    >> 只需要3個坐標 即可獲得正確的變換\n",
    "\n",
    "    >> In affine transforms \n",
    "        >> only need 3 coordiantes to obtain the correct transform\n",
    "        \n",
    "'''        "
   ]
  },
  {
   "cell_type": "code",
   "execution_count": 25,
   "metadata": {},
   "outputs": [],
   "source": [
    "import cv2\n",
    "import numpy as np\n",
    "import matplotlib.pyplot as plt\n",
    "\n",
    "image = cv2.imread('data/ex2.jpg')\n",
    "rows,cols,ch = image.shape\n",
    "\n",
    "cv2.imshow('Original', image)\n",
    "cv2.waitKey(0)\n",
    "\n",
    "# 原始圖像的 4個角 的 坐標\n",
    "# Cordinates of the 4 corners of the original image\n",
    "\n",
    "points_A = np.float32([[320,15], [700,215], [85,610]])\n",
    "\n",
    "# 輸出的 4個角 的 坐標 Cordinates\n",
    "# A4紙 - 1：1.41 的 比例 \n",
    "\n",
    "points_B = np.float32([[0,0], [420,0], [0,594]])\n",
    " \n",
    "    \n",
    "    \n",
    "# 兩組 四個點 進行計算 \n",
    "# 透視轉換矩陣，M -  Perspective Transformation matrix, M \n",
    "\n",
    "\n",
    "M = cv2.getAffineTransform(points_A, points_B)\n",
    "\n",
    "warped = cv2.warpAffine(image, M, (cols, rows))\n",
    " \n",
    "cv2.imshow('warpPerspective', warped)\n",
    "cv2.waitKey(0)\n",
    "cv2.destroyAllWindows()"
   ]
  },
  {
   "cell_type": "raw",
   "metadata": {},
   "source": [
    "'''\n",
    "\n",
    ">> 步驟 2 ：特徵提取\n",
    "    >> Step 2 : Feature Extraction\n",
    "\n",
    "'''"
   ]
  },
  {
   "cell_type": "raw",
   "metadata": {},
   "source": [
    "'''\n",
    "\n",
    ">> 輸入圖像input image 具有太多額外信息，這些信息對於分類不是必需的\n",
    "    >> 因此，\n",
    "    >> 圖像分類 image classification\n",
    "        >> 第一步是\n",
    "            >> 通過提取圖像中包含的重要信息\n",
    "                >> extracting the important informatio\n",
    "            >> 並將其餘部分省略來簡化圖像\n",
    "        >> 例如\n",
    "            >> 如果要在圖像中\n",
    "                >> 找到襯衫 shirt 和外套按鈕 coat buttons\n",
    "                    >> 會注意到RGB\n",
    "                        >> 像素值 RGB pixel values的顯著變化\n",
    "            >> 但是，通過在圖像上運行邊緣檢測器 edge detector  \n",
    "                >> 可以簡化圖像\n",
    "                >> 仍然可以輕鬆地辨別這些邊緣圖像 edge images 中\n",
    "                    >> 按鈕的圓形形狀 circular shape\n",
    "                >> 因此可以得出結論\n",
    "                    >> 邊緣檢測 edge detection保留了基本信息\n",
    "                    >> 同時丟棄了非必要信息\n",
    "         >> 該步驟稱為特徵提取 feature extraction\n",
    "         \n",
    "         \n",
    "    >> 在傳統的計算機視覺方法中 Traditional Computer Vision \n",
    "        >> 設計這些特徵 features\n",
    "            >> 對於算法 algorithm的性能是至關重要的\n",
    "        \n",
    "        >> 事實證明\n",
    "            >> 可以比簡單的邊緣檢測 simple edge detection 做得更好\n",
    "                >> 並找到更可靠的功能\n",
    "        >> 在襯衫 shirt 和外套按鈕 coat buttons 示例中\n",
    "            >> 一個好的特徵檢測器不僅可以捕獲按鈕的圓形形狀\n",
    "            >> 還可以獲取\n",
    "               >> 有關按鈕與其他圓形物體（如汽車輪胎）的不同之處的信息\n",
    "\n",
    "    >> 計算機視覺中\n",
    "        >> 使用的一些眾所周知的特徵是由 Viola 和 Jones\n",
    "          >> Histogram of Oriented Gradients ( HOG )  特徵\n",
    "          >> Scale-Invariant Feature Transform SIFT 尺度不變特徵變換\n",
    "          >> 加速魯棒特徵（Speeded Up Robust Feature ( SURF )\n",
    "          \n",
    "'''                            "
   ]
  },
  {
   "cell_type": "raw",
   "metadata": {},
   "source": [
    "'''\n",
    "\n",
    ">> 直方圖梯度圖 (HOG)\n",
    "    >> Histogram of Oriented Gradients ( HOG )\n",
    "        >> 進行特徵提取 feature extraction algorithm \n",
    "\n",
    "    >> 定向梯度直方圖（HOG）\n",
    "        >> 特徵提取算法 Feature Extraction Algorithm\n",
    "        >> 將固定大小的圖像轉換為固定大小的特徵向量\n",
    "            >> image of fixed size to a feature vector of fixed size.\n",
    "        >> 在行人檢測 Pedestrian Detection 的情況下\n",
    "            >> HOG 特徵描述符 HOG feature descriptor\n",
    "                >> 是針對圖像的64×128補丁計算的\n",
    "                    >> 並返回大小為3780的向量 vector\n",
    "                >> 請注意\n",
    "                >> 此圖像原始尺寸為64 x 128 x 3 = 24,576\n",
    "                >> 這是HOG描述符 descriptor\n",
    "                    >> 減少到3780\n",
    "\n",
    "        >> HOG \n",
    "            >> 基於這樣的思想 Local Object Appearance\n",
    "            >> 可以通過邊緣方向(local object appearance 定向梯度)\n",
    "                >> 的分佈 distribution(histogram 直方圖)\n",
    "                >> 有效地描述局部對像外觀\n",
    "                \n",
    "                \n",
    "        >> 下面\n",
    "            >> 計算64×128圖像\n",
    "                >> HOG描述符的步驟\n",
    "\n",
    "           \n",
    "'''                    "
   ]
  },
  {
   "cell_type": "raw",
   "metadata": {},
   "source": [
    "'''\n",
    "\n",
    ">> 梯度計算 Gradient calculation：\n",
    "    >> 計算在 x梯度  gradient 和 y梯度 gradient 的圖像\n",
    "        >> g_x 並且 G_Y，從所述原始圖像 original image\n",
    "        >> 這可以通過\n",
    "        >> 使用以下內核過濾原始圖像 filtering the original image\n",
    "            >> 來完成\n",
    "\n",
    "\n",
    "'''"
   ]
  },
  {
   "cell_type": "markdown",
   "metadata": {},
   "source": [
    "<img src=\"https://www.learnopencv.com/wp-content/uploads/2016/11/gradient-kernels.jpg\" width=\"25%\"> "
   ]
  },
  {
   "cell_type": "markdown",
   "metadata": {},
   "source": [
    "<img src=\"https://www.learnopencv.com/wp-content/ql-cache/quicklatex.com-63f6cd0dabced613d560b807221f8527_l3.png\" width=\"25%\"> "
   ]
  },
  {
   "cell_type": "raw",
   "metadata": {},
   "source": [
    "'''\n",
    "\n",
    ">> 細胞 Cells\n",
    "    >> 將圖像分成8×8個細胞。\n",
    "    >> 計算這些8×8細胞中梯度的直方圖 \n",
    "        >> Calculate histogram of gradients in these 8×8 cells\n",
    "        >> 在8×8單元中的每個像素處\n",
    "            >> 知道梯度（幅度和方向）\n",
    "                >> 因此有64個幅度和64個方向 - 即128個數字\n",
    "            >> 這些梯度的直方圖將提供更有用和緊湊的表示\n",
    "    >> 接下來，我們將這128個數字轉換為9個bin的直方圖（即9個數字）\n",
    "    \n",
    "    >> 直方圖的區間\n",
    "        >> 對應於梯度方向0,20,40 ...... 160度\n",
    "        >> 每個像素\n",
    "            >> 在直方圖中投票給一個或兩個二進制位\n",
    "        >> 如果像素處的梯度的方向恰好是0度，20度，40度或160度\n",
    "            >> 則將像素投射到像素中的投票等於梯度的大小\n",
    "        >> 一個像素\n",
    "            >> 其中漸變的方向不完全是0,20,40 ...... 160度\n",
    "            >> 基於距離箱的距離在兩個最近的箱中分割其投票\n",
    "    >> 例如\n",
    "        >> 塊標準化 Block normalization\n",
    "        >> 在上一步驟中計算的直方圖對照明變化不是很穩健\n",
    "        >> 通過常數因子乘以圖像強度也可以縮放直方圖箱值\n",
    "        >> 為了對抗這些影響\n",
    "            >> 可以對直方圖進行歸一化 \n",
    "            >> 即將直方圖視為9個元素的向量\n",
    "            >> 並將每個元素除以該向量的大小\n",
    "        >> 在原始的HOG論文中\n",
    "            >> 這種歸一化不是在產生直方圖的8×8單元上進行的\n",
    "            >> 而是在16×16塊上進行\n",
    "            \n",
    "        >> 這個想法是一樣的\n",
    "            >> 但現在不是9元素矢量，而是36元素向量\n",
    "            \n",
    "            \n",
    "    >> 特徵向量 Feature Vector\n",
    "        >> 在前面的步驟中\n",
    "            >> 想出瞭如何在8×8單元上計算直方圖\n",
    "                >> 然後在16×16塊上對其進行歸一化\n",
    "            >> 為了計算整個圖像的最終特徵向量 final vector\n",
    "            >> 16×16塊\n",
    "                >> 以8的步長移動（即與前一個塊重疊50％）\n",
    "                >> 和36個數字（對應於16×16塊中的4個直方圖）\n",
    "            >> 在連接每個步驟以產生最終的特徵向量\n",
    "         \n",
    "        >>最終載體的長度是多少\n",
    "            >> What is the length of the final vector\n",
    "            >> 輸入圖像的大小為64×128像素\n",
    "                >> 一次移動8個像素\n",
    "            >> 因此\n",
    "                >> 可以在水平方向上製作7個步驟\n",
    "                >> 在垂直方向上製作15個步驟\n",
    "                    >> 這相當於7 x 15 = 105步\n",
    "                >> 在每一步\n",
    "                    >> 計算了36個數字\n",
    "                    >> 這使得最終向量\n",
    "                        >> 長度為105×36 = 3780\n",
    "\n",
    "\n",
    "\n",
    "''''''\n",
    "\n",
    ">> 使用梯度 圖像 \n",
    "    >> Gradient images G_x 和 G_Y\n",
    "    >> 計算出\n",
    "        >> 使用下列公式梯度 equations 的 幅度 magnitude  \n",
    "        >> orientation of the gradient 方向。\n",
    "\n",
    "    >> calcuated gradients\n",
    "    >> 計算的梯度是“ 無符號的 unsigned ”\n",
    "        >> 因此\\ THETA\n",
    "            >> 在 0到180度的範圍內\n",
    "    \n",
    "'''"
   ]
  },
  {
   "cell_type": "raw",
   "metadata": {},
   "source": [
    "'''\n",
    "\n",
    ">> 步驟 2 ：學習分類算法\n",
    "    >> Step 2 : Learning Algorithm For Classification\n",
    "\n",
    "'''"
   ]
  },
  {
   "cell_type": "raw",
   "metadata": {},
   "source": [
    "'''\n",
    "\n",
    "\n",
    ">> 上面了解\n",
    "    >> 如何將\n",
    "        >> 圖像 Image轉換為特徵向量 Feature Vector\n",
    "    >> 將學習分類算法 background\n",
    "        >> 將此特徵向量 feature vector\n",
    "            >> 作為輸入並輸出類標籤 Class Label\n",
    "            >> 例如 - 貓 cat 或背景 background\n",
    "\n",
    "    >> 分類算法 Classification Algorithm 之前\n",
    "        >> 需要通過展示成千上萬的貓和背景\n",
    "            >> 示例來訓練它\n",
    "        >> 不同的學習算法學習方法不同\n",
    "        >> 但一般原則\n",
    "            >> 是學習算法\n",
    "                >> 將特徵向量 higher dimensional \n",
    "                    >> 視為高維空間中的點\n",
    "            >> 並嘗試\n",
    "                >> 找到分割高維空間的平面/表面 planes / surfaces\n",
    "            >> 使得屬於同一類\n",
    "                >> 所有示例都是在plane / surface的一側。\n",
    "\n",
    "    >> 支持向量機 Support Vector Machine ( SVM )\n",
    "        >> 稱為支持向量機（Support Vector Machines ( SVM )的學習算法。\n",
    "\n",
    "        >> 支持向量機（SVM）如何用於圖像分類？\n",
    "        >> 支持向量機（SVM）是最受歡迎的監督二進制分類算法之一\n",
    "        >> 雖然SVM中使用\n",
    "            >> 自1963年以來一直存在\n",
    "        >> 當前的版本\n",
    "            >> 是由 Cortes 和 Vapnik\n",
    "                >> 1995年提出的\n",
    "\n",
    "    >> 了解到圖像的 HOG描述符 descriptor\n",
    "        >> 是長度為3780的特徵向量\n",
    "            >> 可以將此向量看作3780維空間中的點\n",
    "            >> 可視化更高維度的空間是不可能的\n",
    "            >> 所以讓我們稍微簡化一下\n",
    "            >> 並想像\n",
    "                >> 特徵向量只是二維的\n",
    "                \n",
    " '''               "
   ]
  },
  {
   "cell_type": "markdown",
   "metadata": {},
   "source": [
    "<img src=\"https://www.learnopencv.com/wp-content/uploads/2016/11/SVM.jpg\" width=\"50%\"> "
   ]
  },
  {
   "cell_type": "raw",
   "metadata": {},
   "source": [
    "'''\n",
    "\n",
    ">> 現在有2D點代表兩個類（例如貓和背景）\n",
    "    >> 在上圖中\n",
    "        >> 兩個類由兩種不同的點表示\n",
    "        >> 所有黑點都屬於一個類，白點屬於另一個類\n",
    "            >> 在訓練期間\n",
    "                >> 為算法提供了來自兩個類的許多示例\n",
    "                >> 換句話說\n",
    "                >> 告訴算法2D點的坐標以及點是黑色還是白色。\n",
    "\n",
    "    >> 不同的學習算法\n",
    "        >> 弄清楚如何以不同的方式分離這兩個類\n",
    "        >> 線性SVM嘗試找到分隔兩個類的最佳線\n",
    "        >> 在上圖中\n",
    "            >> H1，H2和H3在此2D空間中是三條線\n",
    "            >> H1 不會將這兩個類分開，因此不是一個好的分類器\n",
    "            >> H2和H3都將這兩個類別分開\n",
    "        >> 但直覺上感覺\n",
    "            >> H3是比H2更好的分類器\n",
    "            >> 因為H3似乎更乾淨地將兩個類別分開\n",
    "        >> 為什麼？\n",
    "            >> 因為 H2 太靠近一些黑白點\n",
    "            >> 另一方面\n",
    "                >> 選擇 H3 \n",
    "                    >> 使得它與兩個類的成員處於最大距離\n",
    "\n",
    "    >> 鑑於上圖中的2D特徵\n",
    "        >> SVM\n",
    "            >> 將為找到第H3行\n",
    "            >> 如果獲得了與算法之前\n",
    "            >> 從未見過的圖像對應的新2D特徵向量，\n",
    "            >> 可以簡單地測試該點所在的行的哪一側\n",
    "                >> 並為其分配適當的類標籤\n",
    "            >> 如果特徵向量是3D\n",
    "                >> SVM將找到最大限度地分離這兩個類的適當平面\n",
    "            >> 可能已經猜到\n",
    "                >> 如果的特徵向量位於3780維空間中\n",
    "                >> SVM 將找到合適的超平面\n",
    "\n",
    "\n",
    "    >> 優化 SVM\n",
    "        >> Optimizing SVM\n",
    "       \n",
    "'''"
   ]
  },
  {
   "cell_type": "code",
   "execution_count": 2,
   "metadata": {},
   "outputs": [],
   "source": [
    "import cv2\n",
    "import numpy as np\n",
    "\n",
    "# 草圖生成功能 sketch generating function\n",
    "\n",
    "def sketch(image):\n",
    "    # Convert 圖像 轉換為 灰度 \n",
    "    img_gray = cv2.cvtColor(image, cv2.COLOR_BGR2GRAY)\n",
    "    \n",
    "    # 高斯模糊 Guassian Blur 清理圖像  image\n",
    "    img_gray_blur = cv2.GaussianBlur(img_gray, (5,5), 0)\n",
    "    \n",
    "    # 提取邊緣  edges\n",
    "    canny_edges = cv2.Canny(img_gray_blur, 10, 70)\n",
    "    \n",
    "    # 反轉 二值化圖像 invert binarize the image \n",
    "    ret, mask = cv2.threshold(canny_edges, 70, 255, cv2.THRESH_BINARY_INV)\n",
    "    return mask\n",
    "\n",
    "\n",
    "# Initialize webcam，cap是 VideoCapture提供的對象\n",
    "# 包含一個布爾值 (True , False )，是否成功（ret）\n",
    "# 包含從網絡攝像頭 (frame)- 收集的圖像\n",
    "\n",
    "\n",
    "cap = cv2.VideoCapture(0)\n",
    "\n",
    "while True:\n",
    "    ret, frame = cap.read()\n",
    "    cv2.imshow(' WebCam Sketcher - Live ', sketch(frame))\n",
    "    if cv2.waitKey(1) == 13: # 13 is the Enter Key\n",
    "        break\n",
    "        \n",
    "# 釋放相機並關閉窗戶\n",
    "\n",
    "cap.release()\n",
    "cv2.destroyAllWindows()      "
   ]
  },
  {
   "cell_type": "code",
   "execution_count": null,
   "metadata": {},
   "outputs": [],
   "source": []
  }
 ],
 "metadata": {
  "kernelspec": {
   "display_name": "Python 3",
   "language": "python",
   "name": "python3"
  },
  "language_info": {
   "codemirror_mode": {
    "name": "ipython",
    "version": 3
   },
   "file_extension": ".py",
   "mimetype": "text/x-python",
   "name": "python",
   "nbconvert_exporter": "python",
   "pygments_lexer": "ipython3",
   "version": "3.7.3"
  }
 },
 "nbformat": 4,
 "nbformat_minor": 2
}
