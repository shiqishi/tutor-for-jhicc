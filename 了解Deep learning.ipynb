{
 "cells": [
  {
   "cell_type": "markdown",
   "metadata": {},
   "source": [
    "# 人工智慧大历史"
   ]
  },
  {
   "cell_type": "markdown",
   "metadata": {},
   "source": [
    "![人工智慧起源](https://miro.medium.com/max/1397/1*oAK2bgj9N_rrn_fhAe9Ouw.png)\n",
    "![人工智慧发展](https://miro.medium.com/max/1395/1*2f7Tw8292L_3ru4sclk98w.png)\n",
    "![人工智慧未来](https://miro.medium.com/max/1395/1*5OXKwlO5LmWn4qp8pqpspw.png)"
   ]
  },
  {
   "cell_type": "markdown",
   "metadata": {},
   "source": [
    "# 深度学习体验平台 TensorFlowPlayGround"
   ]
  },
  {
   "cell_type": "markdown",
   "metadata": {},
   "source": [
    "[体验网页(英文)](https://playground.tensorflow.org)\n",
    "\n",
    "[体验网页(中文)](https://pairlabs.ai/tensorflow-playground/index_tw.html)"
   ]
  },
  {
   "cell_type": "code",
   "execution_count": null,
   "metadata": {},
   "outputs": [],
   "source": []
  }
 ],
 "metadata": {
  "kernelspec": {
   "display_name": "Python 3",
   "language": "python",
   "name": "python3"
  },
  "language_info": {
   "codemirror_mode": {
    "name": "ipython",
    "version": 3
   },
   "file_extension": ".py",
   "mimetype": "text/x-python",
   "name": "python",
   "nbconvert_exporter": "python",
   "pygments_lexer": "ipython3",
   "version": "3.7.3"
  }
 },
 "nbformat": 4,
 "nbformat_minor": 2
}
