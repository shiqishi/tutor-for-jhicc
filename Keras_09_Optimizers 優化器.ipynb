{
 "cells": [
  {
   "cell_type": "markdown",
   "metadata": {},
   "source": [
    "## 什麼是優化器\n",
    "- 機器學習算法當中，⼤部分算法的本質就是建立優化模型，通過最優化⽅法對⽬標函數進⾏優化從⽽訓練出最好的模型\n",
    "- 優化算法的功能，是通過改善訓練⽅式，來最⼩化(或最⼤化)損失函數 E(x)\n",
    "- 優化策略和算法，是⽤來更新和計算影響模型訓練和模型輸出的網絡參數，使其逼近或達到最優值"
   ]
  },
  {
   "cell_type": "markdown",
   "metadata": {},
   "source": [
    "## 最常見的優化器算法 Gradient Descent\n",
    "- 這種算法使⽤各參數的梯度值來最⼩化或最⼤化損失函數E(x)。\n",
    "- 通過尋找最⼩值，控制⽅差，更新模型參數，最終使模型收斂\n",
    "- 參數的更新分為兩步：第⼀步計算梯度下降的⽅向，第⼆步計算合適的學習\n",
    "\n",
    "## 動量Momentum\n",
    "- 梯度⽅向不變的維度上速度變快，梯度⽅向有所改變的維度上的更新速度變慢，這樣就可以加快收斂並減⼩震盪"
   ]
  },
  {
   "cell_type": "markdown",
   "metadata": {},
   "source": [
    "## Stochastic Gradient Descent (SGD) 隨機梯度下降法\n",
    "> 找出參數的梯度(利⽤微分的⽅法)，往梯度的⽅向去更新參數(weight)，\n",
    "#### 優點：\n",
    "> SGD 每次更新時對每個樣本進⾏梯度更新， 對於很⼤的數據集來說，可能會有相似的樣本，⽽ SGD ⼀次只進⾏⼀次更新，就沒有冗餘，⽽且比較快\n",
    "##### 缺點： \n",
    "> 但是 SGD 因為更新比較頻繁，會造成 cost function 有嚴重的震盪\n",
    "## SGD調用\n",
    "> keras.optimizers.SGD(lr=0.01, momentum=0.0, decay=0.0, nesterov=False)\n",
    "- lr：<float> 學習率。\n",
    "- Momentum 動量：<float> 參數，⽤於加速 SGD 在相關⽅向上前進，並抑制震盪。\n",
    "- Decay(衰變)：<float> 每次參數更新後學習率衰減值。\n",
    "- nesterov：布爾值。是否使⽤ Nesterov 動量。\n",
    "   [比Momentum更快：揭开Nesterov Accelerated Gradient的真面目](https://zhuanlan.zhihu.com/p/22810533)\n",
    "    \n",
    "> 通過名稱來調⽤優化器，將使⽤優化器的默認參數。\n",
    "- model.compile(loss='mean_squared_error', optimizer='sgd')\n",
    "\n",
    "> 實例化⼀個優化器對象，然後將它傳入model.compile()，可以修改參數\n",
    "- sgd = optimizers.SGD(lr=0.01, decay=1e-6, momentum=0.9, nesterov=True)\n",
    "- model.compile(loss='mean_squared_error', optimizer=sgd) "
   ]
  },
  {
   "cell_type": "markdown",
   "metadata": {},
   "source": [
    "## SGD, mini-batch gradient descent\n",
    "#### batch-gradient，其實就是普通的梯度下降算法但是採⽤批量處理。\n",
    "- 當數據集很⼤（比如有100000個左右時），每次 iteration 都要將1000000 個數據跑⼀遍，機器帶不動。於是有了 mini-batch-gradient ——將 1000000 個樣本分成 1000 份，每份 1000 個，都看成⼀組獨立的數據集，進⾏forward_propagation 和 backward_propagation。\n",
    "\n",
    "#### 在整個算法的流程中，cost function 是局部的，但是W和b是全局的。\n",
    "\n",
    "\n",
    "#### epoch、 iteration 、 batchsize，mini-batch\n",
    "- batchsize：批量⼤⼩，即每次訓練在訓練集中取batchsize個樣本訓練；\n",
    "> batchsize=1;\n",
    "> batchsize = mini-batch;\n",
    "> batchsize = whole training set\n",
    "- iteration：1個 iteration 等於使⽤ batchsize 個樣本訓練⼀次；\n",
    "- epoch：1個 epoch 等於使⽤訓練集中的全部樣本訓練⼀次；\n",
    "\n",
    "#### 怎麼配置mini-batch梯度下降\n",
    "- Mini-batch sizes，簡稱為「batch sizes」，是算法設計中需要調節的參數。\n",
    "- 較⼩的值讓學習過程收斂更快，但是產⽣更多噪聲。\n",
    "- 較⼤的值讓學習過程收斂較慢，但是準確的估計誤差梯度。\n",
    "- batch size 的默認值最好是 32 盡量選擇 2 的冪次⽅，有利於 GPU 的加速。\n",
    "- 調節 batch size 時，最好觀察模型在不同 batch size 下的訓練時間和驗證誤差的學習曲線。\n",
    "- 調整其他所有超參數之後再調整 batch size 和學習率。"
   ]
  },
  {
   "cell_type": "markdown",
   "metadata": {},
   "source": [
    "## Adagrad\n",
    "> 设置全局学习率之后，每次通过，全局学习率逐参数的除以历史梯度平方和的平方根，使得每个参数的学习率不同.\n",
    "- 起到的效果是在参数空间更为平缓的方向，会取得更大的进步（因为平缓，所以历史梯度平方和较小，对应学习下降的幅度较小），并且能够使得陡峭的方向变得平缓，从而加快训练速度. [Deep Learning 最优化方法之AdaGrad](https://zhuanlan.zhihu.com/p/29920135)\n",
    "<img src=\"imgs/keras09_adagrad.jpg\" width=\"80%\">\n",
    "\n",
    "#### 超參數設定值\n",
    "> keras.optimizers.Adagrad(lr=0.01, epsilon=None, decay=0.0)\n",
    "- lr：float >= 0. 學習率.⼀般 η 就取 0.01\n",
    "- epsilon： float >= 0. 若為 None，默認為 K.epsilon().\n",
    "- decay：float >= 0. 每次參數更新後學習率衰減值\n",
    "\n",
    "> 實例化⼀個優化器對象，然後將它傳入model.compile() , 可以修改參數\n",
    "- opt = optimizers. Adagrad(lr=0.01, epsilon=None, decay=0.0)\n",
    "- model.compile(loss='mean_squared_error', optimizer=opt)"
   ]
  },
  {
   "cell_type": "markdown",
   "metadata": {},
   "source": [
    "## RMSprop\n",
    "> RMSProp 算法也旨在抑制梯度的鋸⿒下降，但與動量相比， RMSProp 不需要⼿動配置學習率超參數，由算法⾃動完成。更重要的是，RMSProp 可以為每個參數選擇不同的學習率。\n",
    "#### RMSprop 是為了解決 Adagrad 學習率急劇下降問題的 \n",
    "[Deep Learning 最优化方法之RMSProp](https://blog.csdn.net/BVL10101111/article/details/72616378)\n",
    "- AdaGrad算法的改进。鉴于神经网络都是非凸条件下的，RMSProp在非凸条件下结果更好，改变梯度累积为指数衰减的移动平均以丢弃遥远的过去历史。\n",
    "- 经验上，RMSProp被证明有效且实用的深度学习网络优化算法。相比于AdaGrad的历史梯度,RMSProp增加了一个衰减系数来控制历史信息的获取多少\n",
    "#### RMSprop 調⽤\n",
    "\n",
    "> keras.optimizers.RMSprop(lr=0.001, rho=0.9, epsilon=None, decay=0.0)\n",
    "- This optimizer is usually a good choice for recurrent neural networks.\n",
    "- lr：float >= 0. Learning rate.\n",
    "- rho：float >= 0.\n",
    "- epsilon：float >= 0. Fuzz factor. If None, defaults to K.epsilon().\n",
    "- decay：float >= 0. Learning rate decay over each update.\n",
    "\n",
    "> 實例化⼀個優化器對象，然後將它傳入model.compile() , 可以修改參數\n",
    "- opt = optimizers.RMSprop(lr=0.001, epsilon=None, decay=0.0)\n",
    "- model.compile(loss='mean_squared_error', optimizer=opt) "
   ]
  },
  {
   "cell_type": "markdown",
   "metadata": {},
   "source": [
    "## Adam\n",
    "> 2014年12月，Kingma和Lei Ba两位学者提出了Adam优化器，结合AdaGrad和RMSProp两种优化算法的优点。对梯度的一阶矩估计（First Moment Estimation，即梯度的均值）和二阶矩估计（SecondMoment Estimation，即梯度的未中心化的方差）进行综合考虑，计算出更新步长。\n",
    "> 主要包含以下几个显著的优点：[简单认识Adam优化器](https://www.jianshu.com/p/aebcaf8af76e)\n",
    "- 实现简单，计算高效，对内存需求少\n",
    "- 参数的更新不受梯度的伸缩变换影响\n",
    "- 超参数具有很好的解释性，且通常无需调整或仅需很少的微调\n",
    "- 更新的步长能够被限制在大致的范围内（初始学习率）\n",
    "- 能自然地实现步长退火过程（自动调整学习率）\n",
    "- 很适合应用于大规模的数据及参数的场景\n",
    "- 适用于不稳定目标函数\n",
    "- 适用于梯度稀疏或梯度存在很大噪声的问题\n",
    "#### Adam調用\n",
    "> keras.optimizers.Adam(lr=0.001, beta_1=0.9, beta_2=0.999, epsilon=None, decay=0.0,amsgrad=False)\n",
    "- lr：float >= 0. 學習率。\n",
    "- beta_1：float, 0 < beta < 1. 通常接近於 1。\n",
    "- beta_2：float, 0 < beta < 1. 通常接近於 1。\n",
    "- epsilon：float >= 0. 模糊因數. 若為 None, 默認為 K.epsilon()。\n",
    "- amsgrad：boolean. 是否應⽤此演算法的 AMSGrad 變種，來⾃論⽂ 「On the Convergence of Adam and Beyond」\n",
    "- decay：float >= 0. 每次參數更新後學習率衰減值\n",
    "\n",
    "> 實例化⼀個優化器對象，然後將它傳入 model.compile() , 可以修改參數\n",
    "- opt = optimizers. Adam(lr=0.001, epsilon=None, decay=0.0)\n",
    "- model.compile(loss='mean_squared_error', optimizer=opt) \n"
   ]
  },
  {
   "cell_type": "markdown",
   "metadata": {},
   "source": [
    "## 如何選擇優化器\n",
    "\n",
    "> 如果輸入數據集比較稀疏，SGD、NAG和動量項等⽅法可能效果不好。因此對於稀疏數據集，應該使⽤某種⾃適應學習率的⽅法，且另⼀好處為不需要⼈為調整學習率，使⽤默認參數就可能獲得最優值。\n",
    "- Adagrad, RMSprop, Adam。\n",
    "\n",
    "> 如果想使訓練深層網絡模型快速收斂或所構建的神經網絡較為複雜，則應該使⽤Adam或其他⾃適應學習速率的⽅法，因為這些⽅法的實際效果更優。\n",
    "- Adam 就是在 RMSprop 的基礎上加了 bias-correction 和momentum，\n",
    "- 隨著梯度變的稀疏，Adam 比 RMSprop 效果會好。\n",
    "\n",
    "[Adam优化器如何选择](https://blog.csdn.net/qq_35860352/article/details/80772142)\n",
    "\n",
    "[An overview of gradient descent optimization algorithms](https://arxiv.org/pdf/1609.04747.pdf)"
   ]
  },
  {
   "cell_type": "markdown",
   "metadata": {},
   "source": [
    "# 課程重點:\n",
    "    \n",
    "    利用Keras 建立神經網路模型\n",
    "    \n",
    "    查看優化器的結果"
   ]
  },
  {
   "cell_type": "markdown",
   "metadata": {},
   "source": [
    "# 範例目標:\n",
    "    \n",
    "    使用CIFAR-10圖庫, 看看完整神經網路"
   ]
  },
  {
   "cell_type": "code",
   "execution_count": 16,
   "metadata": {},
   "outputs": [],
   "source": [
    "from __future__ import print_function\n",
    "import keras\n",
    "from keras.datasets import cifar10\n",
    "from keras.preprocessing.image import ImageDataGenerator\n",
    "from tensorflow.keras.models import Sequential\n",
    "from tensorflow.keras.layers import Dense, Dropout, Activation, Flatten\n",
    "from tensorflow.keras.layers import Conv2D, MaxPooling2D\n",
    "from tensorflow.keras import optimizers\n",
    "import os"
   ]
  },
  {
   "cell_type": "code",
   "execution_count": 10,
   "metadata": {},
   "outputs": [],
   "source": [
    "batch_size = 32\n",
    "num_classes = 10\n",
    "epochs = 15\n",
    "data_augmentation = True\n",
    "num_predictions = 20\n",
    "save_dir = os.path.join(os.getcwd(), 'saved_models')\n",
    "model_name = 'keras_cifar10_trained_model.h5'"
   ]
  },
  {
   "cell_type": "code",
   "execution_count": 11,
   "metadata": {},
   "outputs": [
    {
     "name": "stdout",
     "output_type": "stream",
     "text": [
      "x_train shape: (50000, 32, 32, 3)\n",
      "50000 train samples\n",
      "10000 test samples\n"
     ]
    }
   ],
   "source": [
    "# 檢查Dataset 的描述與資訊\n",
    "# The data, split between train and test sets:\n",
    "(x_train, y_train), (x_test, y_test) = cifar10.load_data()\n",
    "print('x_train shape:', x_train.shape)\n",
    "print(x_train.shape[0], 'train samples')\n",
    "print(x_test.shape[0], 'test samples')\n",
    "\n",
    "# Convert class vectors to binary class matrices.\n",
    "y_train = keras.utils.to_categorical(y_train, num_classes)\n",
    "y_test = keras.utils.to_categorical(y_test, num_classes)"
   ]
  },
  {
   "cell_type": "code",
   "execution_count": 12,
   "metadata": {},
   "outputs": [],
   "source": [
    "#    第一步：選擇模型, 順序模型是多個網絡層的線性堆疊\n",
    " \n",
    "model = Sequential()\n",
    "\n",
    "#   第二步：構建網絡層\n",
    "model.add(Conv2D(32, (3, 3), padding='same',\n",
    "                 input_shape=x_train.shape[1:]))\n",
    "model.add(Activation('relu'))\n",
    "model.add(Conv2D(32, (3, 3)))\n",
    "model.add(Activation('relu'))\n",
    "model.add(MaxPooling2D(pool_size=(2, 2)))\n",
    "model.add(Dropout(0.25))\n",
    "\n",
    "model.add(Conv2D(64, (3, 3), padding='same'))\n",
    "model.add(Activation('relu'))\n",
    "model.add(Conv2D(64, (3, 3)))\n",
    "model.add(Activation('relu'))\n",
    "model.add(MaxPooling2D(pool_size=(2, 2)))\n",
    "model.add(Dropout(0.25))\n",
    "\n",
    "model.add(Flatten())\n",
    "model.add(Dense(512))\n",
    "model.add(Activation('relu'))\n",
    "model.add(Dropout(0.5))\n",
    "\n",
    "model.add(Dense( 10)) # 輸出結果是10個類別，所以維度是10   \n",
    "model.add(Activation('softmax')) # 最後一層用softmax作為激活函數"
   ]
  },
  {
   "cell_type": "code",
   "execution_count": 13,
   "metadata": {},
   "outputs": [
    {
     "name": "stdout",
     "output_type": "stream",
     "text": [
      "Total Parameters：1250858\n"
     ]
    }
   ],
   "source": [
    "# 模型建立完成後，統計參數總量\n",
    "print(\"Total Parameters：%d\" % model.count_params())"
   ]
  },
  {
   "cell_type": "code",
   "execution_count": 14,
   "metadata": {},
   "outputs": [
    {
     "name": "stdout",
     "output_type": "stream",
     "text": [
      "Model: \"sequential_1\"\n",
      "_________________________________________________________________\n",
      "Layer (type)                 Output Shape              Param #   \n",
      "=================================================================\n",
      "conv2d_4 (Conv2D)            (None, 32, 32, 32)        896       \n",
      "_________________________________________________________________\n",
      "activation_6 (Activation)    (None, 32, 32, 32)        0         \n",
      "_________________________________________________________________\n",
      "conv2d_5 (Conv2D)            (None, 30, 30, 32)        9248      \n",
      "_________________________________________________________________\n",
      "activation_7 (Activation)    (None, 30, 30, 32)        0         \n",
      "_________________________________________________________________\n",
      "max_pooling2d_2 (MaxPooling2 (None, 15, 15, 32)        0         \n",
      "_________________________________________________________________\n",
      "dropout_3 (Dropout)          (None, 15, 15, 32)        0         \n",
      "_________________________________________________________________\n",
      "conv2d_6 (Conv2D)            (None, 15, 15, 64)        18496     \n",
      "_________________________________________________________________\n",
      "activation_8 (Activation)    (None, 15, 15, 64)        0         \n",
      "_________________________________________________________________\n",
      "conv2d_7 (Conv2D)            (None, 13, 13, 64)        36928     \n",
      "_________________________________________________________________\n",
      "activation_9 (Activation)    (None, 13, 13, 64)        0         \n",
      "_________________________________________________________________\n",
      "max_pooling2d_3 (MaxPooling2 (None, 6, 6, 64)          0         \n",
      "_________________________________________________________________\n",
      "dropout_4 (Dropout)          (None, 6, 6, 64)          0         \n",
      "_________________________________________________________________\n",
      "flatten_1 (Flatten)          (None, 2304)              0         \n",
      "_________________________________________________________________\n",
      "dense_2 (Dense)              (None, 512)               1180160   \n",
      "_________________________________________________________________\n",
      "activation_10 (Activation)   (None, 512)               0         \n",
      "_________________________________________________________________\n",
      "dropout_5 (Dropout)          (None, 512)               0         \n",
      "_________________________________________________________________\n",
      "dense_3 (Dense)              (None, 10)                5130      \n",
      "_________________________________________________________________\n",
      "activation_11 (Activation)   (None, 10)                0         \n",
      "=================================================================\n",
      "Total params: 1,250,858\n",
      "Trainable params: 1,250,858\n",
      "Non-trainable params: 0\n",
      "_________________________________________________________________\n"
     ]
    }
   ],
   "source": [
    "# 輸出模型摘要資訊\n",
    "model.summary()"
   ]
  },
  {
   "cell_type": "code",
   "execution_count": 17,
   "metadata": {},
   "outputs": [],
   "source": [
    "#第三步編譯\n",
    "'''\n",
    " SGD(隨機梯度下降) - Arguments\n",
    "lr: float >= 0. Learning rate.\n",
    "momentum: float >= 0. Parameter that accelerates SGD in the relevant direction and dampens oscillations.\n",
    "decay: float >= 0. Learning rate decay over each update.\n",
    "nesterov: boolean. Whether to apply Nesterov momentum.\n",
    "'''\n",
    "\n",
    "'''\n",
    "RMSprop- Arguments\n",
    "lr: float >= 0. Learning rate.\n",
    "rho: float >= 0.\n",
    "epsilon: float >= 0. Fuzz factor. If None, defaults to K.epsilon().\n",
    "decay: float >= 0. Learning rate decay over each update.\n",
    "'''\n",
    "\n",
    "\n",
    "#Example:\n",
    "opt = optimizers.SGD(lr=0.01, decay=1e-6, momentum=0.9, nesterov=True)\n",
    "\n",
    "model.compile(optimizer = opt, loss = 'categorical_crossentropy', metrics = ['accuracy'])\n"
   ]
  },
  {
   "cell_type": "code",
   "execution_count": 18,
   "metadata": {},
   "outputs": [],
   "source": [
    "# 資料正規化\n",
    "x_train = x_train.astype('float32')\n",
    "x_test = x_test.astype('float32')\n",
    "x_train /= 255\n",
    "x_test /= 255"
   ]
  },
  {
   "cell_type": "code",
   "execution_count": 19,
   "metadata": {},
   "outputs": [
    {
     "name": "stdout",
     "output_type": "stream",
     "text": [
      "Using real-time data augmentation.\n",
      "\n",
      "Train on 50000 samples, validate on 10000 samples\n",
      "Epoch 1/15\n",
      "50000/50000 [==============================] - 231s 5ms/sample - loss: 1.7850 - accuracy: 0.3417 - val_loss: 1.3723 - val_accuracy: 0.4913\n",
      "Epoch 2/15\n",
      "50000/50000 [==============================] - 207s 4ms/sample - loss: 1.3277 - accuracy: 0.5181 - val_loss: 1.0919 - val_accuracy: 0.6133\n",
      "Epoch 3/15\n",
      "50000/50000 [==============================] - 207s 4ms/sample - loss: 1.1427 - accuracy: 0.5929 - val_loss: 0.9925 - val_accuracy: 0.6547\n",
      "Epoch 4/15\n",
      "50000/50000 [==============================] - 216s 4ms/sample - loss: 1.0224 - accuracy: 0.6390 - val_loss: 0.9095 - val_accuracy: 0.6797\n",
      "Epoch 5/15\n",
      "50000/50000 [==============================] - 210s 4ms/sample - loss: 0.9484 - accuracy: 0.6636 - val_loss: 0.8150 - val_accuracy: 0.7127\n",
      "Epoch 6/15\n",
      "50000/50000 [==============================] - 207s 4ms/sample - loss: 0.8889 - accuracy: 0.6871 - val_loss: 0.8372 - val_accuracy: 0.7080\n",
      "Epoch 7/15\n",
      "50000/50000 [==============================] - 208s 4ms/sample - loss: 0.8430 - accuracy: 0.7045 - val_loss: 0.7881 - val_accuracy: 0.7285\n",
      "Epoch 8/15\n",
      "50000/50000 [==============================] - 210s 4ms/sample - loss: 0.8154 - accuracy: 0.7157 - val_loss: 0.7623 - val_accuracy: 0.7378\n",
      "Epoch 9/15\n",
      "50000/50000 [==============================] - 206s 4ms/sample - loss: 0.7847 - accuracy: 0.7241 - val_loss: 0.7346 - val_accuracy: 0.7444\n",
      "Epoch 10/15\n",
      "50000/50000 [==============================] - 209s 4ms/sample - loss: 0.7553 - accuracy: 0.7337 - val_loss: 0.7893 - val_accuracy: 0.7252\n",
      "Epoch 11/15\n",
      "50000/50000 [==============================] - 206s 4ms/sample - loss: 0.7363 - accuracy: 0.7431 - val_loss: 0.7971 - val_accuracy: 0.7280\n",
      "Epoch 12/15\n",
      "50000/50000 [==============================] - 206s 4ms/sample - loss: 0.7235 - accuracy: 0.7478 - val_loss: 0.7081 - val_accuracy: 0.7604\n",
      "Epoch 13/15\n",
      "50000/50000 [==============================] - 208s 4ms/sample - loss: 0.6999 - accuracy: 0.7546 - val_loss: 0.7169 - val_accuracy: 0.7588\n",
      "Epoch 14/15\n",
      "50000/50000 [==============================] - 208s 4ms/sample - loss: 0.6859 - accuracy: 0.7603 - val_loss: 0.7017 - val_accuracy: 0.7652\n",
      "Epoch 15/15\n",
      "50000/50000 [==============================] - 209s 4ms/sample - loss: 0.6731 - accuracy: 0.7644 - val_loss: 0.6951 - val_accuracy: 0.7684\n"
     ]
    },
    {
     "data": {
      "text/plain": [
       "'\\n   第四步：訓練\\n   .fit的一些參數\\n   batch_size：對總的樣本數進行分組，每組包含的樣本數量\\n   epochs ：訓練次數\\n   shuffle：是否把數據隨機打亂之後再進行訓練\\n   validation_split：拿出百分之多少用來做交叉驗證\\n   verbose：屏顯模式 - 0：不輸出, 1：輸出進度, 2：輸出每次的訓練結果\\n'"
      ]
     },
     "execution_count": 19,
     "metadata": {},
     "output_type": "execute_result"
    }
   ],
   "source": [
    "# 是否要做資料處理\n",
    "if not data_augmentation:\n",
    "    print('Not using data augmentation.')\n",
    "    history=model.fit(x_train, y_train,\n",
    "              batch_size=batch_size,\n",
    "              epochs=epochs,\n",
    "              validation_data=(x_test, y_test),\n",
    "              shuffle=True)\n",
    "else:\n",
    "    print('Using real-time data augmentation.')\n",
    "    print('')\n",
    "        \n",
    "    # This will do preprocessing and realtime data augmentation:\n",
    "    datagen = ImageDataGenerator(\n",
    "        featurewise_center=False,  # set input mean to 0 over the dataset\n",
    "        samplewise_center=False,  # set each sample mean to 0\n",
    "        featurewise_std_normalization=False,  # divide inputs by std of the dataset\n",
    "        samplewise_std_normalization=False,  # divide each input by its std\n",
    "        zca_whitening=False,  # apply ZCA whitening\n",
    "        zca_epsilon=1e-06,  # epsilon for ZCA whitening\n",
    "        rotation_range=0,  # randomly rotate images in the range (degrees, 0 to 180)\n",
    "        # randomly shift images horizontally (fraction of total width)\n",
    "        width_shift_range=0.1,\n",
    "        # randomly shift images vertically (fraction of total height)\n",
    "        height_shift_range=0.1,\n",
    "        shear_range=0.,  # set range for random shear\n",
    "        zoom_range=0.,  # set range for random zoom\n",
    "        channel_shift_range=0.,  # set range for random channel shifts\n",
    "        # set mode for filling points outside the input boundaries\n",
    "        fill_mode='nearest',\n",
    "        cval=0.,  # value used for fill_mode = \"constant\"\n",
    "        horizontal_flip=True,  # randomly flip images\n",
    "        vertical_flip=False,  # randomly flip images\n",
    "        # set rescaling factor (applied before any other transformation)\n",
    "        rescale=None,\n",
    "        # set function that will be applied on each input\n",
    "        preprocessing_function=None,\n",
    "        # image data format, either \"channels_first\" or \"channels_last\"\n",
    "        data_format=None,\n",
    "        # fraction of images reserved for validation (strictly between 0 and 1)\n",
    "        validation_split=0.0)\n",
    "\n",
    "    # Compute quantities required for feature-wise normalization\n",
    "    # (std, mean, and principal components if ZCA whitening is applied).\n",
    "    datagen.fit(x_train)\n",
    "    history=model.fit(x_train, y_train,\n",
    "              batch_size=batch_size,\n",
    "              epochs=epochs,\n",
    "              validation_data=(x_test, y_test),\n",
    "              shuffle=True)   \n",
    "\n",
    "'''\n",
    "   第四步：訓練\n",
    "   .fit的一些參數\n",
    "   batch_size：對總的樣本數進行分組，每組包含的樣本數量\n",
    "   epochs ：訓練次數\n",
    "   shuffle：是否把數據隨機打亂之後再進行訓練\n",
    "   validation_split：拿出百分之多少用來做交叉驗證\n",
    "   verbose：屏顯模式 - 0：不輸出, 1：輸出進度, 2：輸出每次的訓練結果\n",
    "''' \n",
    "    "
   ]
  },
  {
   "cell_type": "code",
   "execution_count": 20,
   "metadata": {},
   "outputs": [
    {
     "name": "stdout",
     "output_type": "stream",
     "text": [
      "Saved trained model at C:\\Users\\qishi shi\\Desktop\\ai100-3\\晉華-數據挖掘教程\\saved_models\\keras_cifar10_trained_model.h5 \n",
      "10000/10000 [==============================] - 7s 749us/sample - loss: 0.6951 - accuracy: 0.7684\n",
      "Test loss: 0.6951169993400573\n",
      "Test accuracy: 0.7684\n"
     ]
    }
   ],
   "source": [
    "# Save model and weights\n",
    "if not os.path.isdir(save_dir):\n",
    "    os.makedirs(save_dir)\n",
    "model_path = os.path.join(save_dir, model_name)\n",
    "model.save(model_path)\n",
    "print('Saved trained model at %s ' % model_path)\n",
    "\n",
    "#    第六步：輸出\n",
    "# Score trained model.\n",
    "scores = model.evaluate(x_test, y_test, verbose=1)\n",
    "print('Test loss:', scores[0])\n",
    "print('Test accuracy:', scores[1])"
   ]
  },
  {
   "cell_type": "code",
   "execution_count": 22,
   "metadata": {},
   "outputs": [
    {
     "data": {
      "image/png": "[encoded data removed]",
      "text/plain": [
       "<Figure size 432x288 with 1 Axes>"
      ]
     },
     "metadata": {
      "needs_background": "light"
     },
     "output_type": "display_data"
    },
    {
     "data": {
      "image/png": "[encoded data removed]",
      "text/plain": [
       "<Figure size 432x288 with 1 Axes>"
      ]
     },
     "metadata": {
      "needs_background": "light"
     },
     "output_type": "display_data"
    }
   ],
   "source": [
    "import matplotlib.pyplot as plt\n",
    "%matplotlib inline\n",
    "\n",
    "# Plot training & validation accuracy values\n",
    "plt.plot(history.history['accuracy'])\n",
    "plt.plot(history.history['val_accuracy'])\n",
    "plt.title('Model accuracy')\n",
    "plt.ylabel('Accuracy')\n",
    "plt.xlabel('Epoch')\n",
    "plt.legend(['Train', 'Valiidation'], loc='upper left')\n",
    "plt.show()\n",
    "\n",
    "# Plot training & validation loss values\n",
    "plt.plot(history.history['loss'])\n",
    "plt.plot(history.history['val_loss'])\n",
    "plt.title('Model loss')\n",
    "plt.ylabel('Loss')\n",
    "plt.xlabel('Epoch')\n",
    "plt.legend(['Train', 'Valiidation'], loc='upper left')\n",
    "plt.show()"
   ]
  },
  {
   "cell_type": "code",
   "execution_count": null,
   "metadata": {},
   "outputs": [],
   "source": []
  }
 ],
 "metadata": {
  "kernelspec": {
   "display_name": "Python 3",
   "language": "python",
   "name": "python3"
  },
  "language_info": {
   "codemirror_mode": {
    "name": "ipython",
    "version": 3
   },
   "file_extension": ".py",
   "mimetype": "text/x-python",
   "name": "python",
   "nbconvert_exporter": "python",
   "pygments_lexer": "ipython3",
   "version": "3.7.3"
  }
 },
 "nbformat": 4,
 "nbformat_minor": 2
}
