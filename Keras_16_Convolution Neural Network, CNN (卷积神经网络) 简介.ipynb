{
 "cells": [
  {
   "cell_type": "markdown",
   "metadata": {},
   "source": [
    "# 了解什么是CNN"
   ]
  },
  {
   "cell_type": "markdown",
   "metadata": {},
   "source": [
    "#### CNN 模型能夠輕易易辨別這兩兩隻狗的品種\n",
    "<img src=\"imgs/keras15_CNN0.png\" width=\"90%\">"
   ]
  },
  {
   "cell_type": "markdown",
   "metadata": {},
   "source": [
    "#### CNN 在圖像辨識競賽中超越⼈人類表現\n",
    "ImageNet Challenge 是電腦視覺的競賽，需要對影像進⾏行行 1000 個類別的預測，在 CNN 出現後⾸首次有超越⼈人類準確率的模型\n",
    "<img src=\"imgs/keras15_CNN1.png\" width=\"70%\">"
   ]
  },
  {
   "cell_type": "markdown",
   "metadata": {},
   "source": [
    "### 卷积是什么\n",
    "- 卷積其實只是簡單的數學乘法與加法\n",
    "- 利⽤用濾波器 (filter) 對圖像做卷積來找尋規則\n",
    "- 下圖的濾波器是⼀一個斜直線，可⽤來搜尋圖像上具有斜直線的區域ImageFilter\n",
    "<img src=\"imgs/keras15_CNN2.png\" width=\"100%\">\n",
    "\n",
    "#### 卷積是將影像與 filter 的值相乘後再進⾏加總，即可得到特徵圖\n",
    "[点击观看gif链接](https://i.imgur.com/XsO8YzY.gifv)"
   ]
  },
  {
   "cell_type": "markdown",
   "metadata": {},
   "source": [
    "### 卷积的目的\n",
    "- 透過卷積，我們可以找出圖像上與濾波器具有相同特徵的區域\n",
    "- 兩個不同濾波器(filter) 得到的特徵圖 (Feature map) 也不相同\n",
    "\n",
    "### 滤波器（filter）\n",
    "- 我們已經了解濾波器是⽤來找圖像上是否有同樣特徵\n",
    "- 那濾波器 (filter) 中的數字是怎麼得來來的呢?•其實是透過資料學習⽽來的! 這也就是 CNN 模型中的參數 (或叫權重weights)\n",
    "- CNN 會自動從訓練資料中學習出適合的濾波器來完成你的任務 (分類、偵測等)\n",
    "\n",
    "### 滤波器视觉化\n",
    "- 透過⼀層又⼀層的神經網路疊加，可以看到底層的濾波器在找線條與顏⾊的特徵，中層則是輪廓與形狀 (輪胎)，高層的則是相對完整的特徵 (如⾞車窗、後照鏡等)\n"
   ]
  },
  {
   "cell_type": "markdown",
   "metadata": {},
   "source": [
    "### 延伸阅读\n",
    "[卷積神經網路的運作原理](https://brohrer.mcknote.com/zh-Hant/how_machine_learning_works/how_convolutional_neural_networks_work.html)"
   ]
  },
  {
   "cell_type": "markdown",
   "metadata": {},
   "source": [
    "# 卷积神经网路架构细节\n",
    "> 深度學習(Deep learning)中的CNN較傳統的DNN多了了Convolutional（卷積）及池化（Pooling）兩層layer，⽤以維持形狀狀資訊並且避免參數大幅增加。\n",
    "\n",
    "- Convolution原理是透過⼀個指定尺⼨的window，由上⽽下依序滑動取得圖像中各局部特徵作為下⼀層的輸入，這個sliding window在CNN中稱為Convolution kernel\n",
    "- 利用此⽅式來取得圖像中各局部的區域加總計算後，透過 ReLU activation function輸出為特徵值再提供給下一層使⽤\n"
   ]
  },
  {
   "cell_type": "markdown",
   "metadata": {},
   "source": [
    "### 卷积网路的组成\n",
    "- Convolution Layer 卷積層\n",
    "- Pooling Layer 池化層\n",
    "- Flatten Layer 平坦層\n",
    "- Fully connection Layer 全連接層\n",
    "<img src=\"imgs/keras15_CNN3.png\" width=\"100%\">\n",
    "\n",
    "#### 平坦层 - Flatten\n",
    "> Flatten：將特徵資訊丟到Full connected layer來進⾏分類，其神經元只與上一層kernel 的像素連結，⽽且各連結的權重在同層中是相同且共享的\n",
    "\n",
    "#### 全連接層 - Fully connected layers\n",
    "> 卷積和池化層，其最主要的目的分別是提取特徵及減少圖像參數，然後將特徵資訊丟到Full connected layer 來進行分類，其神經元只與上⼀層 kernel的像素連結，⽽且各連結的權重在同層中是相同且共享的\n",
    "<img src=\"imgs/keras15_CNN4.png\" width=\"100%\">\n"
   ]
  },
  {
   "cell_type": "markdown",
   "metadata": {},
   "source": [
    "### Convolutional over volume\n",
    "\n",
    "#### input 上的变化\n",
    "- 單⾊圖片的 input，是 2D， Width x Height \n",
    "- 彩⾊圖片的 input，是 3D， Width x Height x Channels\n",
    "\n",
    "#### filter 上的变化\n",
    "- 單⾊圖片的 filter，是 2D, Width x Height \n",
    "- 彩⾊色圖片的 filter，是 3D, Width x Height x Channels \n",
    "- 但2個 filter 的數值是一樣的\n",
    "\n",
    "#### feature map 上的变化\n",
    "- 單⾊圖片，一個 filter，是 2D, Width x Height \n",
    "- 多個 filters，Width x Height x filter 數量\n",
    "- 彩⾊圖片，也是如此"
   ]
  },
  {
   "cell_type": "markdown",
   "metadata": {},
   "source": [
    "## [3x3 convolution kernels with online demo](http://matlabtricks.com/post-5/3x3-convolution-kernels-with-online-demo#demo)"
   ]
  },
  {
   "cell_type": "markdown",
   "metadata": {},
   "source": [
    "### 目標:\n",
    "    運用 Keras 模組建構CNN, 了解 CNN 的架構\n",
    "   "
   ]
  },
  {
   "cell_type": "markdown",
   "metadata": {},
   "source": [
    "### 範例重點\n",
    "    CNN 模型必要的: Convolution, Pooling, Flatten, Fully connection, Output, "
   ]
  },
  {
   "cell_type": "code",
   "execution_count": 3,
   "metadata": {},
   "outputs": [
    {
     "name": "stdout",
     "output_type": "stream",
     "text": [
      "2.2.4-tf\n"
     ]
    }
   ],
   "source": [
    "#導入相關模組\n",
    "from tensorflow import keras\n",
    "from tensorflow.keras import layers\n",
    "from tensorflow.keras import models\n",
    "from tensorflow.keras.models import Sequential\n",
    "from tensorflow.keras.layers import Conv2D, Activation, MaxPooling2D, Flatten, Dense\n",
    "\n",
    "#確認keras 版本\n",
    "print(keras.__version__)"
   ]
  },
  {
   "cell_type": "code",
   "execution_count": 4,
   "metadata": {
    "scrolled": true
   },
   "outputs": [
    {
     "name": "stdout",
     "output_type": "stream",
     "text": [
      "Model: \"sequential\"\n",
      "_________________________________________________________________\n",
      "Layer (type)                 Output Shape              Param #   \n",
      "=================================================================\n",
      "conv2d (Conv2D)              (None, 26, 26, 32)        320       \n",
      "_________________________________________________________________\n",
      "max_pooling2d (MaxPooling2D) (None, 13, 13, 32)        0         \n",
      "_________________________________________________________________\n",
      "conv2d_1 (Conv2D)            (None, 11, 11, 25)        7225      \n",
      "_________________________________________________________________\n",
      "max_pooling2d_1 (MaxPooling2 (None, 5, 5, 25)          0         \n",
      "_________________________________________________________________\n",
      "flatten (Flatten)            (None, 625)               0         \n",
      "_________________________________________________________________\n",
      "dense (Dense)                (None, 100)               62600     \n",
      "_________________________________________________________________\n",
      "activation (Activation)      (None, 100)               0         \n",
      "_________________________________________________________________\n",
      "dense_1 (Dense)              (None, 10)                1010      \n",
      "_________________________________________________________________\n",
      "activation_1 (Activation)    (None, 10)                0         \n",
      "=================================================================\n",
      "Total params: 71,155\n",
      "Trainable params: 71,155\n",
      "Non-trainable params: 0\n",
      "_________________________________________________________________\n"
     ]
    }
   ],
   "source": [
    "#建立一個序列模型\n",
    "model = models.Sequential()\n",
    "\n",
    "#建立一個卷績層, 32 個內核, 內核大小 3x3, \n",
    "#輸入影像大小 28x28x1\n",
    "model.add(layers.Conv2D(32, (3, 3), input_shape=(28, 28, 1)))\n",
    "\n",
    "#新增一池化層, 採用maxpooling\n",
    "model.add(MaxPooling2D(2,2))\n",
    "\n",
    "#建立第二個卷績層, 池化層, \n",
    "#請注意, 不需要再輸入 input_shape\n",
    "model.add(layers.Conv2D(25, (3, 3)))\n",
    "model.add(MaxPooling2D(2,2))\n",
    "\n",
    "#新增平坦層\n",
    "model.add(Flatten())\n",
    "\n",
    "#建立一個全連接層\n",
    "model.add(Dense(units=100))\n",
    "model.add(Activation('relu'))\n",
    "\n",
    "#建立一個輸出層, 並採用softmax\n",
    "model.add(Dense(units=10))\n",
    "model.add(Activation('softmax'))\n",
    "\n",
    "#輸出模型的堆疊\n",
    "model.summary()"
   ]
  },
  {
   "cell_type": "markdown",
   "metadata": {},
   "source": [
    "# 卷积层与参数调整"
   ]
  },
  {
   "cell_type": "markdown",
   "metadata": {},
   "source": [
    "### 卷积的超参数 （Hyper parameter）\n",
    "- 卷積內核 (kernel)\n",
    "- Depth (kernels的總數)\n",
    "- Padding (是否加一圈0值的pixel)\n",
    "- Stride(選框每次移動的步數)\n",
    "<img src=\"imgs/keras15_CNN5.png\" width=\"100%\">"
   ]
  },
  {
   "cell_type": "markdown",
   "metadata": {},
   "source": [
    "### 填充或移动步数（Padding / Stride）的用途\n",
    "- padding = ‘VALID’ 等於最⼀開始敘述的卷積計算，圖根據 filter ⼤小和 stride⼤小⽽變⼩\n",
    "> new_height = new_width = (W - F + 1) / S\n",
    "- padding = ‘ Same’的意思是就是要讓輸入和輸出的⼤小是⼀樣的\n",
    "- pad=1，表⽰示圖外圈額外加 1 圈 0\n",
    "- pad=2，圖外圈額外加 2 圈 0，以此類推\n",
    "<img src=\"imgs/keras16_CNN1.png\" width=\"100%\">\n",
    "\n",
    "#### 举例\n",
    "- Model.add(Convolution2D(32, 3, 3), input_shape=(1, 28, 28), strides=2, padding=1)\n",
    "> 這代表卷積層 filter 數設定為 32，filter 的 kernel size 是 3，步伐 stride 是 2，pad 是1。\n",
    "- pad = 1，表⽰示圖外圈額外加 1 圈 0，假設 pad = 2，圖外圈額外加 2 圈 0，以此類\n",
    "- kernel size是 3 的時候，卷積後圖的寬高不要變，pad 就要設定為 1\n",
    "- kernel size是 5 的時候，卷積後圖的寬高不要變，pad 就要設定為 2\n",
    ">  new_height = new_width = (W + 2p - F + 1) / S\n"
   ]
  },
  {
   "cell_type": "markdown",
   "metadata": {},
   "source": [
    "### 多个通道（channels）的卷积作法\n",
    "- 考虑多种颜色 - 针对 RGB\n",
    "- 会有3个对应的kernel\n",
    "\n",
    "<img src=\"imgs/keras16_CNN2.png\" width=\"100%\">\n",
    "<img src=\"imgs/keras16_CNN3.png\" width=\"100%\">\n"
   ]
  },
  {
   "cell_type": "markdown",
   "metadata": {},
   "source": [
    "### [An Intuitive Explanation of Convolutional Neural Networks](https://ujjwalkarn.me/2016/08/11/intuitive-explanation-convnets/)"
   ]
  },
  {
   "cell_type": "markdown",
   "metadata": {},
   "source": [
    "### 範例內容:\n",
    "    定義單步的卷積\n",
    "    \n",
    "    輸出卷積的計算值\n"
   ]
  },
  {
   "cell_type": "code",
   "execution_count": 6,
   "metadata": {},
   "outputs": [],
   "source": [
    "import numpy as np"
   ]
  },
  {
   "cell_type": "code",
   "execution_count": 7,
   "metadata": {},
   "outputs": [],
   "source": [
    "# GRADED FUNCTION: conv_single_step\n",
    "def conv_single_step(a_slice_prev, W, b):\n",
    "    \"\"\"\n",
    "    定義一層 Kernel (內核), 使用的參數說明如下\n",
    "    Arguments:\n",
    "        a_slice_prev -- 輸入資料的維度\n",
    "        W -- 權重, 被使用在 a_slice_prev\n",
    "        b -- 偏差參數 \n",
    "    Returns:\n",
    "        Z -- 滑動窗口（W，b）卷積在前一個 feature map 上的結果\n",
    "    \"\"\"\n",
    "\n",
    "    # 定義一個元素介於 a_slice and W\n",
    "    s = a_slice_prev * W\n",
    "    # 加總所有的 \"s\" 並指定給Z.\n",
    "    Z = np.sum(s)\n",
    "    # Add bias b to Z. 這是 float() 函數, \n",
    "    Z = float(Z + b)\n",
    "\n",
    "    return Z"
   ]
  },
  {
   "cell_type": "code",
   "execution_count": 8,
   "metadata": {},
   "outputs": [
    {
     "name": "stdout",
     "output_type": "stream",
     "text": [
      "Z = -6.999089450680221\n"
     ]
    }
   ],
   "source": [
    "'''\n",
    "seed( ) 用於指定隨機數生成時所用算法開始的整數值，\n",
    "如果使用相同的seed( )值，則每次生成的隨即數都相同，\n",
    "如果不設置這個值，則係統根據時間來自己選擇這個值，\n",
    "此時每次生成的隨機數因時間差異而不同。\n",
    "'''\n",
    "np.random.seed(1)\n",
    "#定義一個 4x4x3 的 feature map\n",
    "a_slice_prev = np.random.randn(4, 4, 3)\n",
    "W = np.random.randn(4, 4, 3)\n",
    "b = np.random.randn(1, 1, 1)\n",
    "\n",
    "#取得計算後,卷績矩陣的值\n",
    "Z = conv_single_step(a_slice_prev, W, b)\n",
    "print(\"Z =\", Z)"
   ]
  },
  {
   "cell_type": "markdown",
   "metadata": {},
   "source": [
    "# 池化（Pooling）层与参数调整"
   ]
  },
  {
   "cell_type": "markdown",
   "metadata": {},
   "source": [
    "### 调用Pooling Layer\n",
    "> keras.layers.MaxPooling2D(pool_size=(2, 2), strides=None, padding='valid', data_format=None)\n",
    "\n",
    "- pool_size：整數，沿（垂直，⽔平）方向縮⼩比例的因數。\n",
    "> (2，2)會把輸入張量的兩個維度都縮⼩⼀半。\n",
    "- strides：整數，2 個整數表⽰的元組，或者是”None”。表⽰步長值。\n",
    "> 如果是 None，那麼默認值是 pool_size。\n",
    "- padding：\"valid\"或者\"same\"（區分⼤小寫）。\n",
    "- data_format：channels_last(默認)或 channels_first 之⼀。表⽰輸入各維度的顺序\n",
    "> channels_last 代表尺⼨寸是(batch, height, width, channels)的輸入張量量\n",
    "> channels_first 代表尺⼨寸是(batch, channels, height, width)的輸入張量量\n"
   ]
  },
  {
   "cell_type": "markdown",
   "metadata": {},
   "source": [
    "### Pooling Layer 常用的类型\n",
    "\n",
    "- Max pooling (最⼤池化)\n",
    "- Average pooling (平均池化)\n",
    "\n",
    "#### 特徵提取的誤差主要來自兩個⽅面\n",
    "- 鄰域⼤小受限造成的估計值方差增⼤\n",
    "- 卷積層超參數與內核造成估計均值的偏移\n",
    "\n",
    "#### ⼀般來說\n",
    "- average-pooling 能減⼩第⼀種誤差，更多的保留圖像的背景信息\n",
    "- max-pooling 能減小第⼆種誤差，更多的保留紋理信息"
   ]
  },
  {
   "cell_type": "markdown",
   "metadata": {},
   "source": [
    "### [卷积神经网络可视化](https://blog.csdn.net/weiwei9363/article/details/79112872)"
   ]
  },
  {
   "cell_type": "code",
   "execution_count": null,
   "metadata": {},
   "outputs": [],
   "source": []
  }
 ],
 "metadata": {
  "kernelspec": {
   "display_name": "Python 3",
   "language": "python",
   "name": "python3"
  },
  "language_info": {
   "codemirror_mode": {
    "name": "ipython",
    "version": 3
   },
   "file_extension": ".py",
   "mimetype": "text/x-python",
   "name": "python",
   "nbconvert_exporter": "python",
   "pygments_lexer": "ipython3",
   "version": "3.7.3"
  }
 },
 "nbformat": 4,
 "nbformat_minor": 2
}
