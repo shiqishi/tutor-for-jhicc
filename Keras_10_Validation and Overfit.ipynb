{
 "cells": [
  {
   "cell_type": "markdown",
   "metadata": {},
   "source": [
    "## 什麼是過度擬合 (overfitting) \n",
    "> 訓練⼀個模型時，使⽤過多參數，導致在訓練集上表現極佳，但⾯對驗證/測試集時，會有更⾼的錯誤率。\n",
    "- 訓練集的損失下降的遠比驗證集的損失還來的快\n",
    "- 驗證集的損失隨訓練時間增長，反⽽上升\n",
    "\n",
    "<img src=\"imgs/keras09_overfit2.png\" width=\"100%\">\n",
    "<img src=\"imgs/keras09_overfit1.png\" width=\"70%\">\n",
    "<img src=\"imgs/keras09_overfit.png\" width=\"80%\">"
   ]
  },
  {
   "cell_type": "raw",
   "metadata": {},
   "source": [
    "## 如何檢視overfit\n",
    "\n",
    "#### 在Keras中，加入驗證集 \n",
    "\n",
    "model.fit(x_train, y_train, \n",
    "          epochs=EPOCHS, \n",
    "          batch_size=BATH_SIZE, \n",
    "          validation_data=(x_valid, y_valid), \n",
    "          shuffle=True)     \n",
    "          \n",
    "model.fit(x_train, y_train, \n",
    "          epochs=EPOCHS, \n",
    "          batch_size=BATH_SIZE, \n",
    "          validation_split=0.9, \n",
    "          shuffle=True)\n",
    "          \n",
    "注意：使⽤ validation_split 與 shuffle 時，Keras 是先⾃ x_train/y_train 取最\n",
    "後 (1-x)% 做為驗證集使⽤，再⾏ shuffle\n",
    "\n",
    "#### 在訓練完成後，將 training loss 與 validation loss 取出並繪圖\n",
    "\n",
    "import matplotlib.pyplot as plt\n",
    "train_loss = model.history.history[\"loss\"]\n",
    "valid_loss = model.history.history[\"val_loss\"]\n",
    "\n",
    "train_acc = model.history.history[\"acc\"]\n",
    "valid_acc = model.history.history[\"val_acc\"]\n",
    "\n",
    "plt.plot(range(len(train_loss)), train_loss, label=\"train loss\")\n",
    "plt.plot(range(len(valid_loss)), valid_loss, label=\"valid loss\")\n",
    "plt.legend()\n",
    "plt.title(\"Loss\")\n",
    "plt.show()\n",
    "\n",
    "plt.plot(range(len(train_acc)), train_acc, label=\"train accuracy\")\n",
    "plt.plot(range(len(valid_acc)), valid_acc, label=\"valid accuracy\")\n",
    "plt.legend()\n",
    "plt.title(\"Accuracy\")\n",
    "plt.show()"
   ]
  },
  {
   "cell_type": "markdown",
   "metadata": {},
   "source": [
    "## 如何減少Overfitting的發生\n",
    "- 使⽤ K-fold cross validation，找到⼀組參數可以在多組不同的 validation 上得到相似的結果\n",
    "- 使⽤更多的訓練資料\n",
    "- 減少 Features (參數) 的使⽤量，避免參數比潛在組合更多的狀況發⽣，以免模型靠硬記就可以得到結果\n",
    "- 在模型訓練的過程中加入正則化參數 (Regularization)\n",
    "\n",
    "## 延伸閱讀\n",
    "[Solving the problem of overfitting](https://www.coursera.org/learn/machine-learning/lecture/4BHEy/regularized-logistic-regression)\n",
    "\n",
    "[The Problem of Overfitting, Cost Function, Regularized Linear Regression, Regularized Logistic Regression](https://medium.com/@ken90242/machine-learning%E5%AD%B8%E7%BF%92%E6%97%A5%E8%A8%98-coursera%E7%AF%87-week-3-4-the-c05b8ba3b36f)\n",
    "\n"
   ]
  },
  {
   "cell_type": "markdown",
   "metadata": {},
   "source": [
    "## 範例重點\n",
    "* 學會從 Keras 內建函式取得資料\n",
    "* 能夠建立簡易的深度學習模型\n",
    "* 觀察並了解 Overfit 現象"
   ]
  },
  {
   "cell_type": "code",
   "execution_count": 6,
   "metadata": {},
   "outputs": [],
   "source": [
    "import os\n",
    "from tensorflow import keras\n",
    "\n",
    "# 本範例不需使用 GPU, 將 GPU 設定為 \"無\"\n",
    "os.environ[\"CUDA_VISIBLE_DEVICES\"] = \"\""
   ]
  },
  {
   "cell_type": "code",
   "execution_count": 7,
   "metadata": {},
   "outputs": [],
   "source": [
    "# 從 Keras 的內建功能中，取得 train 與 test 資料集\n",
    "train, test = keras.datasets.cifar10.load_data()"
   ]
  },
  {
   "cell_type": "code",
   "execution_count": 14,
   "metadata": {},
   "outputs": [],
   "source": [
    "# 將 X 與 Y 獨立放進變數\n",
    "x_train, y_train = train\n",
    "x_test, y_test = test\n",
    "# 資料前處理 - 標準化\n",
    "x_train = x_train / 255.\n",
    "x_test = x_test / 255.\n",
    "\n",
    "# 將資料從圖形 (RGB) 轉為向量 (Single Vector)\n",
    "x_train = x_train.reshape((len(x_train), -1))\n",
    "x_test = x_test.reshape((len(x_test), -1))\n",
    "\n",
    "# 將目標轉為 one-hot encoding\n",
    "y_train = keras.utils.to_categorical(y_train, num_classes=10)\n",
    "y_test = keras.utils.to_categorical(y_test, num_classes=10)"
   ]
  },
  {
   "cell_type": "code",
   "execution_count": 15,
   "metadata": {},
   "outputs": [],
   "source": [
    "# 建立一個有三層隱藏層之神經網路\n",
    "def build_mlp():\n",
    "    input_layer = keras.layers.Input([x_train.shape[-1]])\n",
    "    x = keras.layers.Dense(units=512, activation=\"relu\")(input_layer)\n",
    "    x = keras.layers.Dense(units=256, activation=\"relu\")(x)\n",
    "    x = keras.layers.Dense(units=128, activation=\"relu\")(x)\n",
    "    out = keras.layers.Dense(units=10, activation=\"softmax\")(x)\n",
    "    \n",
    "    model = keras.models.Model(inputs=[input_layer], outputs=[out])\n",
    "    return model"
   ]
  },
  {
   "cell_type": "code",
   "execution_count": 16,
   "metadata": {},
   "outputs": [
    {
     "name": "stdout",
     "output_type": "stream",
     "text": [
      "Model: \"model\"\n",
      "_________________________________________________________________\n",
      "Layer (type)                 Output Shape              Param #   \n",
      "=================================================================\n",
      "input_1 (InputLayer)         [(None, 3072)]            0         \n",
      "_________________________________________________________________\n",
      "dense (Dense)                (None, 512)               1573376   \n",
      "_________________________________________________________________\n",
      "dense_1 (Dense)              (None, 256)               131328    \n",
      "_________________________________________________________________\n",
      "dense_2 (Dense)              (None, 128)               32896     \n",
      "_________________________________________________________________\n",
      "dense_3 (Dense)              (None, 10)                1290      \n",
      "=================================================================\n",
      "Total params: 1,738,890\n",
      "Trainable params: 1,738,890\n",
      "Non-trainable params: 0\n",
      "_________________________________________________________________\n"
     ]
    }
   ],
   "source": [
    "model = build_mlp()\n",
    "# 用 Keras 內建方法檢視模型各層參數量\n",
    "model.summary()\n",
    "\n",
    "optimizer = keras.optimizers.Adam(lr=0.001)\n",
    "model.compile(loss=\"categorical_crossentropy\", metrics=[\"accuracy\"], optimizer=optimizer)"
   ]
  },
  {
   "cell_type": "code",
   "execution_count": 17,
   "metadata": {},
   "outputs": [
    {
     "name": "stdout",
     "output_type": "stream",
     "text": [
      "Train on 50000 samples, validate on 10000 samples\n",
      "Epoch 1/100\n",
      "50000/50000 [==============================] - 9s 180us/sample - loss: 1.9593 - accuracy: 0.2966 - val_loss: 1.8328 - val_accuracy: 0.3339\n",
      "Epoch 2/100\n",
      "50000/50000 [==============================] - 8s 170us/sample - loss: 1.7291 - accuracy: 0.3829 - val_loss: 1.7029 - val_accuracy: 0.3929\n",
      "Epoch 3/100\n",
      "50000/50000 [==============================] - 9s 178us/sample - loss: 1.6351 - accuracy: 0.4191 - val_loss: 1.6113 - val_accuracy: 0.4313\n",
      "Epoch 4/100\n",
      "50000/50000 [==============================] - 9s 178us/sample - loss: 1.5734 - accuracy: 0.4401 - val_loss: 1.5920 - val_accuracy: 0.4379\n",
      "Epoch 5/100\n",
      "50000/50000 [==============================] - 8s 151us/sample - loss: 1.5219 - accuracy: 0.4582 - val_loss: 1.5108 - val_accuracy: 0.4595\n",
      "Epoch 6/100\n",
      "50000/50000 [==============================] - 8s 151us/sample - loss: 1.4801 - accuracy: 0.4706 - val_loss: 1.4968 - val_accuracy: 0.4599\n",
      "Epoch 7/100\n",
      "50000/50000 [==============================] - 8s 157us/sample - loss: 1.4457 - accuracy: 0.4838 - val_loss: 1.4536 - val_accuracy: 0.4829\n",
      "Epoch 8/100\n",
      "50000/50000 [==============================] - 10s 195us/sample - loss: 1.4243 - accuracy: 0.4937 - val_loss: 1.4537 - val_accuracy: 0.4830\n",
      "Epoch 9/100\n",
      "50000/50000 [==============================] - 8s 160us/sample - loss: 1.3891 - accuracy: 0.5031 - val_loss: 1.4335 - val_accuracy: 0.4925\n",
      "Epoch 10/100\n",
      "50000/50000 [==============================] - 8s 158us/sample - loss: 1.3636 - accuracy: 0.5127 - val_loss: 1.4368 - val_accuracy: 0.4970\n",
      "Epoch 11/100\n",
      "50000/50000 [==============================] - 8s 155us/sample - loss: 1.3513 - accuracy: 0.5158 - val_loss: 1.4101 - val_accuracy: 0.4948\n",
      "Epoch 12/100\n",
      "50000/50000 [==============================] - 8s 151us/sample - loss: 1.3140 - accuracy: 0.5332 - val_loss: 1.4169 - val_accuracy: 0.5001\n",
      "Epoch 13/100\n",
      "50000/50000 [==============================] - 7s 143us/sample - loss: 1.2992 - accuracy: 0.5363 - val_loss: 1.3903 - val_accuracy: 0.5050\n",
      "Epoch 14/100\n",
      "50000/50000 [==============================] - 8s 152us/sample - loss: 1.2746 - accuracy: 0.5443 - val_loss: 1.4348 - val_accuracy: 0.4925\n",
      "Epoch 15/100\n",
      "50000/50000 [==============================] - 14s 277us/sample - loss: 1.2579 - accuracy: 0.5509 - val_loss: 1.3725 - val_accuracy: 0.5088\n",
      "Epoch 16/100\n",
      "50000/50000 [==============================] - 8s 153us/sample - loss: 1.2217 - accuracy: 0.5665 - val_loss: 1.4018 - val_accuracy: 0.5070\n",
      "Epoch 17/100\n",
      "50000/50000 [==============================] - 7s 143us/sample - loss: 1.2034 - accuracy: 0.5706 - val_loss: 1.3763 - val_accuracy: 0.5147\n",
      "Epoch 18/100\n",
      "50000/50000 [==============================] - 7s 144us/sample - loss: 1.1829 - accuracy: 0.5783 - val_loss: 1.4940 - val_accuracy: 0.4868\n",
      "Epoch 19/100\n",
      "50000/50000 [==============================] - 7s 144us/sample - loss: 1.1701 - accuracy: 0.5830 - val_loss: 1.3830 - val_accuracy: 0.5103\n",
      "Epoch 20/100\n",
      "50000/50000 [==============================] - 7s 142us/sample - loss: 1.1550 - accuracy: 0.5860 - val_loss: 1.4017 - val_accuracy: 0.5123\n",
      "Epoch 21/100\n",
      "50000/50000 [==============================] - 7s 144us/sample - loss: 1.1293 - accuracy: 0.5983 - val_loss: 1.3661 - val_accuracy: 0.5128\n",
      "Epoch 22/100\n",
      "50000/50000 [==============================] - 7s 148us/sample - loss: 1.1103 - accuracy: 0.6038 - val_loss: 1.3695 - val_accuracy: 0.5184\n",
      "Epoch 23/100\n",
      "50000/50000 [==============================] - 8s 150us/sample - loss: 1.0941 - accuracy: 0.6095 - val_loss: 1.3792 - val_accuracy: 0.5151\n",
      "Epoch 24/100\n",
      "50000/50000 [==============================] - 8s 157us/sample - loss: 1.0774 - accuracy: 0.6148 - val_loss: 1.3896 - val_accuracy: 0.5157\n",
      "Epoch 25/100\n",
      "50000/50000 [==============================] - 7s 147us/sample - loss: 1.0585 - accuracy: 0.6229 - val_loss: 1.3781 - val_accuracy: 0.5226\n",
      "Epoch 26/100\n",
      "50000/50000 [==============================] - 8s 163us/sample - loss: 1.0478 - accuracy: 0.6282 - val_loss: 1.3894 - val_accuracy: 0.5137\n",
      "Epoch 27/100\n",
      "50000/50000 [==============================] - 8s 158us/sample - loss: 1.0317 - accuracy: 0.6310 - val_loss: 1.3950 - val_accuracy: 0.5192\n",
      "Epoch 28/100\n",
      "50000/50000 [==============================] - 7s 149us/sample - loss: 1.0084 - accuracy: 0.6409 - val_loss: 1.3987 - val_accuracy: 0.5161\n",
      "Epoch 29/100\n",
      "50000/50000 [==============================] - 7s 146us/sample - loss: 0.9961 - accuracy: 0.6441 - val_loss: 1.3997 - val_accuracy: 0.5231\n",
      "Epoch 30/100\n",
      "50000/50000 [==============================] - 7s 145us/sample - loss: 0.9865 - accuracy: 0.6474 - val_loss: 1.3965 - val_accuracy: 0.5272\n",
      "Epoch 31/100\n",
      "50000/50000 [==============================] - 7s 145us/sample - loss: 0.9557 - accuracy: 0.6583 - val_loss: 1.4281 - val_accuracy: 0.5220\n",
      "Epoch 32/100\n",
      "50000/50000 [==============================] - 8s 152us/sample - loss: 0.9448 - accuracy: 0.6630 - val_loss: 1.4454 - val_accuracy: 0.5190\n",
      "Epoch 33/100\n",
      "50000/50000 [==============================] - 8s 150us/sample - loss: 0.9281 - accuracy: 0.6692 - val_loss: 1.4646 - val_accuracy: 0.5138\n",
      "Epoch 34/100\n",
      "50000/50000 [==============================] - 8s 156us/sample - loss: 0.9027 - accuracy: 0.6787 - val_loss: 1.4626 - val_accuracy: 0.5173\n",
      "Epoch 35/100\n",
      "50000/50000 [==============================] - 8s 155us/sample - loss: 0.8899 - accuracy: 0.6824 - val_loss: 1.4847 - val_accuracy: 0.5161\n",
      "Epoch 36/100\n",
      "50000/50000 [==============================] - 7s 146us/sample - loss: 0.8784 - accuracy: 0.6881 - val_loss: 1.4849 - val_accuracy: 0.5205\n",
      "Epoch 37/100\n",
      "50000/50000 [==============================] - 9s 178us/sample - loss: 0.8617 - accuracy: 0.6932 - val_loss: 1.5071 - val_accuracy: 0.5174\n",
      "Epoch 38/100\n",
      "50000/50000 [==============================] - 8s 168us/sample - loss: 0.8436 - accuracy: 0.6993 - val_loss: 1.5284 - val_accuracy: 0.5203\n",
      "Epoch 39/100\n",
      "50000/50000 [==============================] - 8s 166us/sample - loss: 0.8369 - accuracy: 0.7009 - val_loss: 1.5283 - val_accuracy: 0.5171\n",
      "Epoch 40/100\n",
      "50000/50000 [==============================] - 8s 154us/sample - loss: 0.8186 - accuracy: 0.7091 - val_loss: 1.5368 - val_accuracy: 0.5164\n",
      "Epoch 41/100\n",
      "50000/50000 [==============================] - 7s 147us/sample - loss: 0.8114 - accuracy: 0.7086 - val_loss: 1.5410 - val_accuracy: 0.5190\n",
      "Epoch 42/100\n",
      "50000/50000 [==============================] - 7s 147us/sample - loss: 0.7887 - accuracy: 0.7170 - val_loss: 1.5476 - val_accuracy: 0.5221\n",
      "Epoch 43/100\n",
      "50000/50000 [==============================] - 8s 155us/sample - loss: 0.7665 - accuracy: 0.7266 - val_loss: 1.6152 - val_accuracy: 0.5187\n",
      "Epoch 44/100\n",
      "50000/50000 [==============================] - 8s 165us/sample - loss: 0.7708 - accuracy: 0.7234 - val_loss: 1.5894 - val_accuracy: 0.5179\n",
      "Epoch 45/100\n",
      "50000/50000 [==============================] - 9s 170us/sample - loss: 0.7376 - accuracy: 0.7393 - val_loss: 1.6468 - val_accuracy: 0.5156\n",
      "Epoch 46/100\n",
      "50000/50000 [==============================] - 7s 145us/sample - loss: 0.7441 - accuracy: 0.7346 - val_loss: 1.6309 - val_accuracy: 0.5204\n",
      "Epoch 47/100\n",
      "50000/50000 [==============================] - 8s 151us/sample - loss: 0.7144 - accuracy: 0.7456 - val_loss: 1.7072 - val_accuracy: 0.5116\n",
      "Epoch 48/100\n",
      "50000/50000 [==============================] - 7s 148us/sample - loss: 0.7096 - accuracy: 0.7472 - val_loss: 1.6865 - val_accuracy: 0.5183\n",
      "Epoch 49/100\n",
      "50000/50000 [==============================] - 7s 145us/sample - loss: 0.6923 - accuracy: 0.7522 - val_loss: 1.6777 - val_accuracy: 0.5139\n",
      "Epoch 50/100\n",
      "50000/50000 [==============================] - 8s 160us/sample - loss: 0.6753 - accuracy: 0.7581 - val_loss: 1.7377 - val_accuracy: 0.5114\n",
      "Epoch 51/100\n",
      "50000/50000 [==============================] - 7s 146us/sample - loss: 0.6646 - accuracy: 0.7640 - val_loss: 1.8037 - val_accuracy: 0.5056\n",
      "Epoch 52/100\n",
      "50000/50000 [==============================] - 9s 180us/sample - loss: 0.6635 - accuracy: 0.7620 - val_loss: 1.7902 - val_accuracy: 0.5084\n",
      "Epoch 53/100\n",
      "50000/50000 [==============================] - 8s 165us/sample - loss: 0.6463 - accuracy: 0.7674 - val_loss: 1.7748 - val_accuracy: 0.5157\n",
      "Epoch 54/100\n"
     ]
    },
    {
     "name": "stdout",
     "output_type": "stream",
     "text": [
      "50000/50000 [==============================] - 8s 152us/sample - loss: 0.6190 - accuracy: 0.7770 - val_loss: 1.8286 - val_accuracy: 0.5132\n",
      "Epoch 55/100\n",
      "50000/50000 [==============================] - 8s 156us/sample - loss: 0.6300 - accuracy: 0.7748 - val_loss: 1.8245 - val_accuracy: 0.5198\n",
      "Epoch 56/100\n",
      "50000/50000 [==============================] - 8s 158us/sample - loss: 0.6229 - accuracy: 0.7766 - val_loss: 1.8756 - val_accuracy: 0.5160\n",
      "Epoch 57/100\n",
      "50000/50000 [==============================] - 7s 149us/sample - loss: 0.6035 - accuracy: 0.7839 - val_loss: 1.8790 - val_accuracy: 0.5057\n",
      "Epoch 58/100\n",
      "50000/50000 [==============================] - 8s 152us/sample - loss: 0.5918 - accuracy: 0.7884 - val_loss: 1.8740 - val_accuracy: 0.5153\n",
      "Epoch 59/100\n",
      "50000/50000 [==============================] - 8s 153us/sample - loss: 0.5827 - accuracy: 0.7913 - val_loss: 1.9908 - val_accuracy: 0.4943\n",
      "Epoch 60/100\n",
      "50000/50000 [==============================] - 8s 150us/sample - loss: 0.5718 - accuracy: 0.7972 - val_loss: 1.9136 - val_accuracy: 0.5107\n",
      "Epoch 61/100\n",
      "50000/50000 [==============================] - 7s 148us/sample - loss: 0.5533 - accuracy: 0.8027 - val_loss: 1.9897 - val_accuracy: 0.5067\n",
      "Epoch 62/100\n",
      "50000/50000 [==============================] - 7s 142us/sample - loss: 0.5344 - accuracy: 0.8107 - val_loss: 1.9823 - val_accuracy: 0.5135\n",
      "Epoch 63/100\n",
      "50000/50000 [==============================] - 8s 151us/sample - loss: 0.5490 - accuracy: 0.8036 - val_loss: 2.0348 - val_accuracy: 0.5093\n",
      "Epoch 64/100\n",
      "50000/50000 [==============================] - 8s 156us/sample - loss: 0.5200 - accuracy: 0.8144 - val_loss: 2.0278 - val_accuracy: 0.5151\n",
      "Epoch 65/100\n",
      "50000/50000 [==============================] - 9s 187us/sample - loss: 0.5440 - accuracy: 0.8049 - val_loss: 2.0654 - val_accuracy: 0.5107\n",
      "Epoch 66/100\n",
      "50000/50000 [==============================] - 9s 187us/sample - loss: 0.5167 - accuracy: 0.8174 - val_loss: 2.1196 - val_accuracy: 0.5115\n",
      "Epoch 67/100\n",
      "50000/50000 [==============================] - 9s 188us/sample - loss: 0.4832 - accuracy: 0.8291 - val_loss: 2.1531 - val_accuracy: 0.4980\n",
      "Epoch 68/100\n",
      "50000/50000 [==============================] - 8s 160us/sample - loss: 0.4897 - accuracy: 0.8277 - val_loss: 2.1978 - val_accuracy: 0.5040\n",
      "Epoch 69/100\n",
      "50000/50000 [==============================] - 7s 144us/sample - loss: 0.4888 - accuracy: 0.8256 - val_loss: 2.2803 - val_accuracy: 0.5008\n",
      "Epoch 70/100\n",
      "50000/50000 [==============================] - 7s 143us/sample - loss: 0.4758 - accuracy: 0.8296 - val_loss: 2.2447 - val_accuracy: 0.5055\n",
      "Epoch 71/100\n",
      "50000/50000 [==============================] - 7s 142us/sample - loss: 0.4669 - accuracy: 0.8338 - val_loss: 2.3429 - val_accuracy: 0.5033\n",
      "Epoch 72/100\n",
      "50000/50000 [==============================] - 7s 142us/sample - loss: 0.4604 - accuracy: 0.8368 - val_loss: 2.3523 - val_accuracy: 0.4894\n",
      "Epoch 73/100\n",
      "50000/50000 [==============================] - 7s 148us/sample - loss: 0.4625 - accuracy: 0.8338 - val_loss: 2.3091 - val_accuracy: 0.5057\n",
      "Epoch 74/100\n",
      "50000/50000 [==============================] - 7s 141us/sample - loss: 0.4612 - accuracy: 0.8342 - val_loss: 2.3398 - val_accuracy: 0.5037\n",
      "Epoch 75/100\n",
      "50000/50000 [==============================] - 7s 142us/sample - loss: 0.4436 - accuracy: 0.8410 - val_loss: 2.4133 - val_accuracy: 0.4995\n",
      "Epoch 76/100\n",
      "50000/50000 [==============================] - 7s 141us/sample - loss: 0.4376 - accuracy: 0.8422 - val_loss: 2.4343 - val_accuracy: 0.5039\n",
      "Epoch 77/100\n",
      "50000/50000 [==============================] - 7s 141us/sample - loss: 0.4312 - accuracy: 0.8461 - val_loss: 2.4370 - val_accuracy: 0.5120\n",
      "Epoch 78/100\n",
      "50000/50000 [==============================] - 7s 141us/sample - loss: 0.4169 - accuracy: 0.8513 - val_loss: 2.4404 - val_accuracy: 0.5032\n",
      "Epoch 79/100\n",
      "50000/50000 [==============================] - 8s 163us/sample - loss: 0.4109 - accuracy: 0.8546 - val_loss: 2.5218 - val_accuracy: 0.4953\n",
      "Epoch 80/100\n",
      "50000/50000 [==============================] - 8s 160us/sample - loss: 0.4208 - accuracy: 0.8499 - val_loss: 2.6063 - val_accuracy: 0.4968\n",
      "Epoch 81/100\n",
      "50000/50000 [==============================] - 8s 160us/sample - loss: 0.4013 - accuracy: 0.8556 - val_loss: 2.5109 - val_accuracy: 0.5021\n",
      "Epoch 82/100\n",
      "50000/50000 [==============================] - 8s 156us/sample - loss: 0.3938 - accuracy: 0.8605 - val_loss: 2.6050 - val_accuracy: 0.5029\n",
      "Epoch 83/100\n",
      "50000/50000 [==============================] - 8s 158us/sample - loss: 0.4198 - accuracy: 0.8486 - val_loss: 2.6387 - val_accuracy: 0.4972\n",
      "Epoch 84/100\n",
      "50000/50000 [==============================] - 8s 162us/sample - loss: 0.4010 - accuracy: 0.8559 - val_loss: 2.6203 - val_accuracy: 0.5052\n",
      "Epoch 85/100\n",
      "50000/50000 [==============================] - 8s 160us/sample - loss: 0.3823 - accuracy: 0.8639 - val_loss: 2.6933 - val_accuracy: 0.4992\n",
      "Epoch 86/100\n",
      "50000/50000 [==============================] - 8s 159us/sample - loss: 0.3873 - accuracy: 0.8609 - val_loss: 2.6412 - val_accuracy: 0.5060\n",
      "Epoch 87/100\n",
      "50000/50000 [==============================] - 8s 158us/sample - loss: 0.3677 - accuracy: 0.8688 - val_loss: 2.7105 - val_accuracy: 0.5000\n",
      "Epoch 88/100\n",
      "50000/50000 [==============================] - 8s 158us/sample - loss: 0.3743 - accuracy: 0.8661 - val_loss: 2.7801 - val_accuracy: 0.4949\n",
      "Epoch 89/100\n",
      "50000/50000 [==============================] - 8s 160us/sample - loss: 0.3489 - accuracy: 0.8760 - val_loss: 2.8180 - val_accuracy: 0.4978\n",
      "Epoch 90/100\n",
      "50000/50000 [==============================] - 8s 159us/sample - loss: 0.3689 - accuracy: 0.8685 - val_loss: 2.8703 - val_accuracy: 0.4995\n",
      "Epoch 91/100\n",
      "50000/50000 [==============================] - 8s 160us/sample - loss: 0.3508 - accuracy: 0.8734 - val_loss: 2.8831 - val_accuracy: 0.4965\n",
      "Epoch 92/100\n",
      "50000/50000 [==============================] - 8s 159us/sample - loss: 0.3494 - accuracy: 0.8745 - val_loss: 2.8088 - val_accuracy: 0.4950\n",
      "Epoch 93/100\n",
      "50000/50000 [==============================] - 8s 158us/sample - loss: 0.3187 - accuracy: 0.8870 - val_loss: 2.9368 - val_accuracy: 0.4983\n",
      "Epoch 94/100\n",
      "50000/50000 [==============================] - 8s 161us/sample - loss: 0.3237 - accuracy: 0.8840 - val_loss: 2.9144 - val_accuracy: 0.4948\n",
      "Epoch 95/100\n",
      "50000/50000 [==============================] - 8s 164us/sample - loss: 0.3382 - accuracy: 0.8779 - val_loss: 2.8481 - val_accuracy: 0.4973\n",
      "Epoch 96/100\n",
      "50000/50000 [==============================] - 8s 160us/sample - loss: 0.3586 - accuracy: 0.8702 - val_loss: 2.9612 - val_accuracy: 0.4973\n",
      "Epoch 97/100\n",
      "50000/50000 [==============================] - 8s 161us/sample - loss: 0.3524 - accuracy: 0.8735 - val_loss: 3.0174 - val_accuracy: 0.5007\n",
      "Epoch 98/100\n",
      "50000/50000 [==============================] - 8s 160us/sample - loss: 0.3063 - accuracy: 0.8911 - val_loss: 3.0266 - val_accuracy: 0.4959\n",
      "Epoch 99/100\n",
      "50000/50000 [==============================] - 8s 158us/sample - loss: 0.3018 - accuracy: 0.8941 - val_loss: 3.1373 - val_accuracy: 0.4953\n",
      "Epoch 100/100\n",
      "50000/50000 [==============================] - 8s 158us/sample - loss: 0.2923 - accuracy: 0.8958 - val_loss: 3.1237 - val_accuracy: 0.5025\n"
     ]
    },
    {
     "data": {
      "text/plain": [
       "<tensorflow.python.keras.callbacks.History at 0xcb82a0ed68>"
      ]
     },
     "execution_count": 17,
     "metadata": {},
     "output_type": "execute_result"
    }
   ],
   "source": [
    "# 訓練模型並檢視驗證集的結果\n",
    "model.fit(x_train, y_train, \n",
    "          epochs=100, \n",
    "          batch_size=256, \n",
    "          validation_data=(x_test, y_test), \n",
    "          shuffle=True)"
   ]
  },
  {
   "cell_type": "code",
   "execution_count": 19,
   "metadata": {},
   "outputs": [
    {
     "data": {
      "image/png": "[encoded data removed]",
      "text/plain": [
       "<Figure size 432x288 with 1 Axes>"
      ]
     },
     "metadata": {
      "needs_background": "light"
     },
     "output_type": "display_data"
    },
    {
     "data": {
      "image/png": "[encoded data removed]",
      "text/plain": [
       "<Figure size 432x288 with 1 Axes>"
      ]
     },
     "metadata": {
      "needs_background": "light"
     },
     "output_type": "display_data"
    }
   ],
   "source": [
    "# 以視覺畫方式檢視訓練過程\n",
    "import matplotlib.pyplot as plt\n",
    "train_loss = model.history.history[\"loss\"]\n",
    "valid_loss = model.history.history[\"val_loss\"]\n",
    "\n",
    "train_acc = model.history.history[\"accuracy\"]\n",
    "valid_acc = model.history.history[\"val_accuracy\"]\n",
    "\n",
    "plt.plot(range(len(train_loss)), train_loss, label=\"train loss\")\n",
    "plt.plot(range(len(valid_loss)), valid_loss, label=\"valid loss\")\n",
    "plt.legend()\n",
    "plt.title(\"Loss\")\n",
    "plt.show()\n",
    "\n",
    "plt.plot(range(len(train_acc)), train_acc, label=\"train accuracy\")\n",
    "plt.plot(range(len(valid_acc)), valid_acc, label=\"valid accuracy\")\n",
    "plt.legend()\n",
    "plt.title(\"Accuracy\")\n",
    "plt.show()"
   ]
  },
  {
   "cell_type": "markdown",
   "metadata": {},
   "source": [
    "### 將 Optimizer 換成 SGD\n",
    "\n",
    "<img src=\"imgs/keras09_SGD.png\">\n",
    "<img src=\"imgs/keras09_SGD1.png\">"
   ]
  },
  {
   "cell_type": "markdown",
   "metadata": {},
   "source": [
    "## 訓練神經網絡前的注意事項\n",
    "\n",
    "### 訓練前的檢查\n",
    "- 使⽤的裝置：是使⽤ CPU or GPU / 想要使⽤的 GPU 是否已經被別⼈佔⽤?\n",
    "> nvidia-smi 可以看到⽬前可以取得的GPU 裝置使⽤狀態\n",
    "> [Windows下查看GPU(NVIDIA)使用情况](https://blog.csdn.net/idwtwt/article/details/78017565)\n",
    "- Inputp reprocessing：資料 (Xs) 是否有進⾏過適當的標準化? \n",
    "- Output preprocessing：⽬標 (Ys) 是否經過適當的處理?(如 onehotencoded)\n",
    "> 透過 Function 進⾏處理，⽽非在 Cell 中單獨進⾏避免遺漏、錯置\n",
    "- Model Graph：模型的架構是否如預期所想?\n",
    "> model.summary() 可以看到模型堆疊的架構\n",
    "- 超參數設定(Hyperparameters)：訓練模型的相關參數是否設定得當?\n",
    "> 將模型/程式所使⽤到的相關參數集中管理，避免散落在各處"
   ]
  },
  {
   "cell_type": "code",
   "execution_count": 2,
   "metadata": {},
   "outputs": [],
   "source": [
    "def preproc_x(x, flatten=True):\n",
    "    x = x / 255.\n",
    "    if flatten:\n",
    "        x = x.reshape((len(x), -1))\n",
    "    return x\n",
    "\n",
    "def preproc_y(y, num_classes=10):\n",
    "    if y.shape[-1] == 1:\n",
    "        y = keras.utils.to_categorical(y, num_classes)\n",
    "    return y "
   ]
  },
  {
   "cell_type": "code",
   "execution_count": 1,
   "metadata": {},
   "outputs": [],
   "source": [
    "def build_mlp(input_shape, output_units=10, num_neurons=[512, 512, 256, 256, 128, 128]):\n",
    "    input_layer = keras.layers.Input(input_shape)\n",
    "    \n",
    "    for i, n_units in enumerate(num_neurons):\n",
    "        if i == 0:\n",
    "            x = keras.layers.Dense(units=n_units, activation=\"relu\", name=\"hidden_layer\"+str(i+1))(input_layer)\n",
    "        else:\n",
    "            x = keras.layers.Dense(units=n_units, activation=\"relu\", name=\"hidden_layer\"+str(i+1))(x)\n",
    "    \n",
    "    out = keras.layers.Dense(units=output_units, activation=\"softmax\", name=\"output\")(x)\n",
    "    \n",
    "    model = keras.models.Model(inputs=[input_layer], outputs=[out])\n",
    "    model.summary()\n",
    "    return model"
   ]
  },
  {
   "cell_type": "code",
   "execution_count": 3,
   "metadata": {},
   "outputs": [],
   "source": [
    "## 超參數設定\n",
    "LEARNING_RATE = 0.001\n",
    "EPOCHS = 50\n",
    "BATCH_SIZE = 256"
   ]
  },
  {
   "cell_type": "code",
   "execution_count": 4,
   "metadata": {
    "scrolled": false
   },
   "outputs": [
    {
     "name": "stdout",
     "output_type": "stream",
     "text": [
      "Model: \"model\"\n",
      "_________________________________________________________________\n",
      "Layer (type)                 Output Shape              Param #   \n",
      "=================================================================\n",
      "input_1 (InputLayer)         [(None, 3072)]            0         \n",
      "_________________________________________________________________\n",
      "hidden_layer1 (Dense)        (None, 512)               1573376   \n",
      "_________________________________________________________________\n",
      "hidden_layer2 (Dense)        (None, 512)               262656    \n",
      "_________________________________________________________________\n",
      "hidden_layer3 (Dense)        (None, 256)               131328    \n",
      "_________________________________________________________________\n",
      "hidden_layer4 (Dense)        (None, 256)               65792     \n",
      "_________________________________________________________________\n",
      "hidden_layer5 (Dense)        (None, 128)               32896     \n",
      "_________________________________________________________________\n",
      "hidden_layer6 (Dense)        (None, 128)               16512     \n",
      "_________________________________________________________________\n",
      "output (Dense)               (None, 10)                1290      \n",
      "=================================================================\n",
      "Total params: 2,083,850\n",
      "Trainable params: 2,083,850\n",
      "Non-trainable params: 0\n",
      "_________________________________________________________________\n",
      "Train on 50000 samples, validate on 10000 samples\n",
      "Epoch 1/50\n",
      "50000/50000 [==============================] - 13s 263us/sample - loss: 1.9249 - accuracy: 0.2913 - val_loss: 1.7628 - val_accuracy: 0.3638\n",
      "Epoch 2/50\n",
      "50000/50000 [==============================] - 12s 236us/sample - loss: 1.7217 - accuracy: 0.3787 - val_loss: 1.6804 - val_accuracy: 0.3934\n",
      "Epoch 3/50\n",
      "50000/50000 [==============================] - 12s 245us/sample - loss: 1.6452 - accuracy: 0.4063 - val_loss: 1.6249 - val_accuracy: 0.4206\n",
      "Epoch 4/50\n",
      "50000/50000 [==============================] - 11s 223us/sample - loss: 1.5864 - accuracy: 0.4282 - val_loss: 1.5555 - val_accuracy: 0.4394\n",
      "Epoch 5/50\n",
      "50000/50000 [==============================] - 11s 223us/sample - loss: 1.5298 - accuracy: 0.4492 - val_loss: 1.5977 - val_accuracy: 0.4154\n",
      "Epoch 6/50\n",
      "50000/50000 [==============================] - 13s 255us/sample - loss: 1.4793 - accuracy: 0.4685 - val_loss: 1.5172 - val_accuracy: 0.4595\n",
      "Epoch 7/50\n",
      "50000/50000 [==============================] - 13s 257us/sample - loss: 1.4395 - accuracy: 0.4849 - val_loss: 1.4985 - val_accuracy: 0.4572\n",
      "Epoch 8/50\n",
      "50000/50000 [==============================] - 13s 261us/sample - loss: 1.4079 - accuracy: 0.4943 - val_loss: 1.4690 - val_accuracy: 0.4728\n",
      "Epoch 9/50\n",
      "50000/50000 [==============================] - 12s 248us/sample - loss: 1.3797 - accuracy: 0.5035 - val_loss: 1.4321 - val_accuracy: 0.4920\n",
      "Epoch 10/50\n",
      "50000/50000 [==============================] - 13s 269us/sample - loss: 1.3510 - accuracy: 0.5128 - val_loss: 1.4073 - val_accuracy: 0.4986\n",
      "Epoch 11/50\n",
      "50000/50000 [==============================] - 13s 253us/sample - loss: 1.3133 - accuracy: 0.5258 - val_loss: 1.4326 - val_accuracy: 0.4971\n",
      "Epoch 12/50\n",
      "50000/50000 [==============================] - 11s 222us/sample - loss: 1.2886 - accuracy: 0.5354 - val_loss: 1.4136 - val_accuracy: 0.4980\n",
      "Epoch 13/50\n",
      "50000/50000 [==============================] - 11s 211us/sample - loss: 1.2624 - accuracy: 0.5490 - val_loss: 1.4983 - val_accuracy: 0.4733\n",
      "Epoch 14/50\n",
      "50000/50000 [==============================] - 11s 226us/sample - loss: 1.2354 - accuracy: 0.5572 - val_loss: 1.3887 - val_accuracy: 0.5080\n",
      "Epoch 15/50\n",
      "50000/50000 [==============================] - 12s 231us/sample - loss: 1.2010 - accuracy: 0.5684 - val_loss: 1.5138 - val_accuracy: 0.4863\n",
      "Epoch 16/50\n",
      "50000/50000 [==============================] - 12s 239us/sample - loss: 1.1729 - accuracy: 0.5792 - val_loss: 1.3879 - val_accuracy: 0.5088\n",
      "Epoch 17/50\n",
      "50000/50000 [==============================] - 12s 247us/sample - loss: 1.1428 - accuracy: 0.5881 - val_loss: 1.4138 - val_accuracy: 0.5112\n",
      "Epoch 18/50\n",
      "50000/50000 [==============================] - 13s 251us/sample - loss: 1.1179 - accuracy: 0.5967 - val_loss: 1.3963 - val_accuracy: 0.5146\n",
      "Epoch 19/50\n",
      "50000/50000 [==============================] - 11s 221us/sample - loss: 1.0938 - accuracy: 0.6055 - val_loss: 1.4219 - val_accuracy: 0.5110\n",
      "Epoch 20/50\n",
      "50000/50000 [==============================] - 11s 221us/sample - loss: 1.0556 - accuracy: 0.6217 - val_loss: 1.4418 - val_accuracy: 0.5099\n",
      "Epoch 21/50\n",
      "50000/50000 [==============================] - 11s 216us/sample - loss: 1.0302 - accuracy: 0.6286 - val_loss: 1.4861 - val_accuracy: 0.4914\n",
      "Epoch 22/50\n",
      "50000/50000 [==============================] - 11s 216us/sample - loss: 0.9961 - accuracy: 0.6400 - val_loss: 1.4265 - val_accuracy: 0.5166\n",
      "Epoch 23/50\n",
      "50000/50000 [==============================] - 11s 221us/sample - loss: 0.9664 - accuracy: 0.6491 - val_loss: 1.4640 - val_accuracy: 0.5157\n",
      "Epoch 24/50\n",
      "50000/50000 [==============================] - 11s 214us/sample - loss: 0.9401 - accuracy: 0.6567 - val_loss: 1.4818 - val_accuracy: 0.5130\n",
      "Epoch 25/50\n",
      "50000/50000 [==============================] - 11s 215us/sample - loss: 0.9068 - accuracy: 0.6703 - val_loss: 1.4949 - val_accuracy: 0.5215\n",
      "Epoch 26/50\n",
      "50000/50000 [==============================] - 12s 232us/sample - loss: 0.8868 - accuracy: 0.6787 - val_loss: 1.5309 - val_accuracy: 0.5087\n",
      "Epoch 27/50\n",
      "50000/50000 [==============================] - 11s 215us/sample - loss: 0.8459 - accuracy: 0.6929 - val_loss: 1.5860 - val_accuracy: 0.5047\n",
      "Epoch 28/50\n",
      "50000/50000 [==============================] - 11s 214us/sample - loss: 0.8101 - accuracy: 0.7045 - val_loss: 1.5942 - val_accuracy: 0.5170\n",
      "Epoch 29/50\n",
      "50000/50000 [==============================] - 11s 220us/sample - loss: 0.7782 - accuracy: 0.7168 - val_loss: 1.6393 - val_accuracy: 0.5120\n",
      "Epoch 30/50\n",
      "50000/50000 [==============================] - 12s 234us/sample - loss: 0.7637 - accuracy: 0.7228 - val_loss: 1.6760 - val_accuracy: 0.5120\n",
      "Epoch 31/50\n",
      "50000/50000 [==============================] - 12s 237us/sample - loss: 0.7321 - accuracy: 0.7341 - val_loss: 1.7696 - val_accuracy: 0.4953\n",
      "Epoch 32/50\n",
      "50000/50000 [==============================] - 11s 221us/sample - loss: 0.7066 - accuracy: 0.7421 - val_loss: 1.8203 - val_accuracy: 0.5026\n",
      "Epoch 33/50\n",
      "50000/50000 [==============================] - 11s 220us/sample - loss: 0.6686 - accuracy: 0.7570 - val_loss: 1.8604 - val_accuracy: 0.5162\n",
      "Epoch 34/50\n",
      "50000/50000 [==============================] - 11s 220us/sample - loss: 0.6594 - accuracy: 0.7609 - val_loss: 1.8718 - val_accuracy: 0.5122\n",
      "Epoch 35/50\n",
      "50000/50000 [==============================] - 11s 213us/sample - loss: 0.6265 - accuracy: 0.7733 - val_loss: 1.8503 - val_accuracy: 0.5138\n",
      "Epoch 36/50\n",
      "50000/50000 [==============================] - 11s 215us/sample - loss: 0.5971 - accuracy: 0.7837 - val_loss: 1.8857 - val_accuracy: 0.5121\n",
      "Epoch 37/50\n",
      "50000/50000 [==============================] - 11s 217us/sample - loss: 0.5832 - accuracy: 0.7871 - val_loss: 1.9827 - val_accuracy: 0.5074\n",
      "Epoch 38/50\n",
      "50000/50000 [==============================] - 11s 212us/sample - loss: 0.5697 - accuracy: 0.7920 - val_loss: 2.0591 - val_accuracy: 0.4920\n",
      "Epoch 39/50\n",
      "50000/50000 [==============================] - 12s 235us/sample - loss: 0.5494 - accuracy: 0.8000 - val_loss: 2.0475 - val_accuracy: 0.5116\n",
      "Epoch 40/50\n",
      "50000/50000 [==============================] - 11s 223us/sample - loss: 0.5173 - accuracy: 0.8133 - val_loss: 2.0877 - val_accuracy: 0.5031\n",
      "Epoch 41/50\n",
      "50000/50000 [==============================] - 11s 213us/sample - loss: 0.4919 - accuracy: 0.8209 - val_loss: 2.3613 - val_accuracy: 0.4963\n",
      "Epoch 42/50\n",
      "50000/50000 [==============================] - 11s 215us/sample - loss: 0.4899 - accuracy: 0.8208 - val_loss: 2.3496 - val_accuracy: 0.5030\n",
      "Epoch 43/50\n",
      "50000/50000 [==============================] - 11s 213us/sample - loss: 0.4951 - accuracy: 0.8223 - val_loss: 2.2291 - val_accuracy: 0.4998\n",
      "Epoch 44/50\n",
      "50000/50000 [==============================] - 11s 218us/sample - loss: 0.4636 - accuracy: 0.8333 - val_loss: 2.4116 - val_accuracy: 0.5018\n",
      "Epoch 45/50\n"
     ]
    },
    {
     "name": "stdout",
     "output_type": "stream",
     "text": [
      "50000/50000 [==============================] - 11s 218us/sample - loss: 0.4517 - accuracy: 0.8359 - val_loss: 2.3733 - val_accuracy: 0.5085\n",
      "Epoch 46/50\n",
      "50000/50000 [==============================] - 10s 200us/sample - loss: 0.4229 - accuracy: 0.8467 - val_loss: 2.4884 - val_accuracy: 0.4881\n",
      "Epoch 47/50\n",
      "50000/50000 [==============================] - 10s 202us/sample - loss: 0.4189 - accuracy: 0.8485 - val_loss: 2.4795 - val_accuracy: 0.5058\n",
      "Epoch 48/50\n",
      "50000/50000 [==============================] - 10s 203us/sample - loss: 0.4117 - accuracy: 0.8499 - val_loss: 2.6366 - val_accuracy: 0.5073\n",
      "Epoch 49/50\n",
      "50000/50000 [==============================] - 10s 203us/sample - loss: 0.3834 - accuracy: 0.8624 - val_loss: 2.5733 - val_accuracy: 0.4975\n",
      "Epoch 50/50\n",
      "50000/50000 [==============================] - 10s 204us/sample - loss: 0.3707 - accuracy: 0.8664 - val_loss: 2.7753 - val_accuracy: 0.4949\n"
     ]
    },
    {
     "data": {
      "text/plain": [
       "<Figure size 640x480 with 1 Axes>"
      ]
     },
     "metadata": {},
     "output_type": "display_data"
    },
    {
     "data": {
      "text/plain": [
       "<Figure size 640x480 with 1 Axes>"
      ]
     },
     "metadata": {},
     "output_type": "display_data"
    }
   ],
   "source": [
    "import os\n",
    "from tensorflow import keras\n",
    "# 從 Keras 的內建功能中，取得 train 與 test 資料集\n",
    "train, test = keras.datasets.cifar10.load_data()\n",
    "## 資料前處理\n",
    "x_train, y_train = train\n",
    "x_test, y_test = test\n",
    "\n",
    "# 資料前處理 - X 標準化\n",
    "x_train = preproc_x(x_train)\n",
    "x_test = preproc_x(x_test)\n",
    "\n",
    "# 資料前處理 -Y 轉成 onehot\n",
    "y_train = preproc_y(y_train)\n",
    "y_test = preproc_y(y_test)\n",
    "model = build_mlp(input_shape=x_train.shape[1:])\n",
    "optimizer = keras.optimizers.Adam(lr=LEARNING_RATE)\n",
    "model.compile(loss=\"categorical_crossentropy\", metrics=[\"accuracy\"], optimizer=optimizer)\n",
    "model.fit(x_train, y_train, \n",
    "          epochs=EPOCHS, \n",
    "          batch_size=BATCH_SIZE, \n",
    "          validation_data=(x_test, y_test), \n",
    "          shuffle=True)"
   ]
  },
  {
   "cell_type": "code",
   "execution_count": 5,
   "metadata": {},
   "outputs": [
    {
     "data": {
      "image/png": "[encoded data removed]",
      "text/plain": [
       "<Figure size 432x288 with 1 Axes>"
      ]
     },
     "metadata": {
      "needs_background": "light"
     },
     "output_type": "display_data"
    },
    {
     "data": {
      "image/png": "[encoded data removed]",
      "text/plain": [
       "<Figure size 432x288 with 1 Axes>"
      ]
     },
     "metadata": {
      "needs_background": "light"
     },
     "output_type": "display_data"
    }
   ],
   "source": [
    "# 訓練模型並檢視驗證集的結果\n",
    "import matplotlib.pyplot as plt\n",
    "\n",
    "train_loss = model.history.history[\"loss\"]\n",
    "valid_loss = model.history.history[\"val_loss\"]\n",
    "\n",
    "train_acc = model.history.history[\"accuracy\"]\n",
    "valid_acc = model.history.history[\"val_accuracy\"]\n",
    "\n",
    "plt.plot(range(len(train_loss)), train_loss, label=\"train loss\")\n",
    "plt.plot(range(len(valid_loss)), valid_loss, label=\"valid loss\")\n",
    "plt.legend()\n",
    "plt.title(\"Loss\")\n",
    "plt.show()\n",
    "\n",
    "plt.plot(range(len(train_acc)), train_acc, label=\"train accuracy\")\n",
    "plt.plot(range(len(valid_acc)), valid_acc, label=\"valid accuracy\")\n",
    "plt.legend()\n",
    "plt.title(\"Accuracy\")\n",
    "plt.show()"
   ]
  },
  {
   "cell_type": "code",
   "execution_count": null,
   "metadata": {},
   "outputs": [],
   "source": []
  }
 ],
 "metadata": {
  "kernelspec": {
   "display_name": "Python 3",
   "language": "python",
   "name": "python3"
  },
  "language_info": {
   "codemirror_mode": {
    "name": "ipython",
    "version": 3
   },
   "file_extension": ".py",
   "mimetype": "text/x-python",
   "name": "python",
   "nbconvert_exporter": "python",
   "pygments_lexer": "ipython3",
   "version": "3.7.3"
  }
 },
 "nbformat": 4,
 "nbformat_minor": 2
}
