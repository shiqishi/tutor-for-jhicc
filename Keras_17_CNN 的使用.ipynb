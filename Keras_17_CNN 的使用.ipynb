{
 "cells": [
  {
   "cell_type": "markdown",
   "metadata": {},
   "source": [
    "# Convolution layer\n",
    "\n",
    "#### feature_maps = Conv2D(filters=128, kernel_size=(3,3), input_shape=input_image.shape)(input_image)\n",
    "\n",
    "- filters: 濾波器的數量。此數字會等於做完卷積後特徵圖的通道數，通常設定為 2 的 n 次⽅\n",
    "- kernel_size: 濾波器的⼤小。通常都是使用 3x3 或是 5x5\n",
    "- input_shape: 只有對影像做第⼀次卷積時要指定，之後 Keras 會⾃動計算input_shape\n",
    "- strides: 做卷積時，濾波器移動的步長。此處的 stirides 就是 1 (一次移動一格)\n",
    "- padding: 是否要對輸入影像的邊緣補值。此處的 padding=same 則是邊緣補⼀層0，稱為 same 的原因是因為做完 padding 再卷積後，輸出的特徵圖尺⼨與輸入影像的尺⼨不會改變\n",
    "\n",
    "<img src=\"imgs/keras17_Convolution layers1.png\" width=\"90%\">\n"
   ]
  },
  {
   "cell_type": "markdown",
   "metadata": {},
   "source": [
    "## [Xception](https://www.icode9.com/content-4-93052.html)\n",
    "> Xception 是 google 继 Inception 后提出的对 Inception v3 的另一种改进,主要采用 depthwise separable convolution来替代原来的 Inception v3 中的卷积操作.\n",
    "\n",
    "- #### 提出Inception 的初衷可以认为是\n",
    "> 特征提取和传递可以通过 1x1，3x3，5x5 conv以及pooling,究竟哪种提取特征方式好呢，Inception 结构将这个疑问留给网络自己训练，也就是将一个输入同时输出给这几种特征提取方式，然后做Concatnate.\n",
    "- #### Depthwise Separable Convolution 深度分离卷积\n",
    "> DepthWise卷积PointWise卷积，合起来称作DepthWise Separable Convolution，\n",
    "- #### DepthWise Convolution的一个卷积核只负责一个通道，一个通道只能被一个卷积核卷积\n",
    "> 對影像的三個通道獨立做卷積，得到三張特徵圖\n",
    "- ####  PointWise Convolution 将上一步的Feature Map重新组合生成新的 Feature Map.\n",
    "> 使⽤ 1x1 的 filter 尺寸做卷積\n",
    "\n",
    "<img src=\"imgs/keras17_Convolution layers2.png\" width=\"90%\">\n",
    "\n"
   ]
  },
  {
   "cell_type": "code",
   "execution_count": 20,
   "metadata": {},
   "outputs": [],
   "source": [
    "from tensorflow.keras.layers import Conv2D, SeparableConv2D, Input\n",
    "from tensorflow.keras.models import Model"
   ]
  },
  {
   "cell_type": "code",
   "execution_count": 21,
   "metadata": {},
   "outputs": [
    {
     "name": "stdout",
     "output_type": "stream",
     "text": [
      "Model: \"model\"\n",
      "_________________________________________________________________\n",
      "Layer (type)                 Output Shape              Param #   \n",
      "=================================================================\n",
      "input_1 (InputLayer)         [(None, 224, 224, 3)]     0         \n",
      "_________________________________________________________________\n",
      "conv2d_24 (Conv2D)           (None, 222, 222, 32)      896       \n",
      "_________________________________________________________________\n",
      "conv2d_25 (Conv2D)           (None, 220, 220, 64)      18496     \n",
      "=================================================================\n",
      "Total params: 19,392\n",
      "Trainable params: 19,392\n",
      "Non-trainable params: 0\n",
      "_________________________________________________________________\n"
     ]
    }
   ],
   "source": [
    "input_image = Input((224, 224, 3))\n",
    "feature_maps = Conv2D(filters=32, kernel_size=(3,3))(input_image)\n",
    "feature_maps2 = Conv2D(filters=64, kernel_size=(3,3))(feature_maps)\n",
    "model = Model(inputs=input_image, outputs=feature_maps2)\n",
    "model.summary()"
   ]
  },
  {
   "cell_type": "code",
   "execution_count": 22,
   "metadata": {},
   "outputs": [
    {
     "name": "stdout",
     "output_type": "stream",
     "text": [
      "Model: \"model_1\"\n",
      "_________________________________________________________________\n",
      "Layer (type)                 Output Shape              Param #   \n",
      "=================================================================\n",
      "input_2 (InputLayer)         [(None, 224, 224, 3)]     0         \n",
      "_________________________________________________________________\n",
      "separable_conv2d (SeparableC (None, 222, 222, 32)      155       \n",
      "_________________________________________________________________\n",
      "separable_conv2d_1 (Separabl (None, 220, 220, 64)      2400      \n",
      "=================================================================\n",
      "Total params: 2,555\n",
      "Trainable params: 2,555\n",
      "Non-trainable params: 0\n",
      "_________________________________________________________________\n"
     ]
    }
   ],
   "source": [
    "input_image = Input((224, 224, 3))\n",
    "feature_maps = SeparableConv2D(filters=32, kernel_size=(3,3))(input_image)\n",
    "feature_maps2 = SeparableConv2D(filters=64, kernel_size=(3,3))(feature_maps)\n",
    "model = Model(inputs=input_image, outputs=feature_maps2)\n",
    "model.summary()"
   ]
  },
  {
   "cell_type": "markdown",
   "metadata": {},
   "source": [
    "## [Keras官方案例](https://github.com/keras-team/keras/blob/master/examples/mnist_cnn.py)\n",
    "> Trains a simple convnet on the MNIST dataset"
   ]
  },
  {
   "cell_type": "code",
   "execution_count": 16,
   "metadata": {},
   "outputs": [],
   "source": [
    "from __future__ import print_function\n",
    "import keras\n",
    "import tensorflow as tf\n",
    "from keras.datasets import mnist\n",
    "from tensorflow.keras.models import Sequential\n",
    "from tensorflow.keras.layers import Dense, Dropout, Flatten\n",
    "from tensorflow.keras.layers import Conv2D, MaxPooling2D\n",
    "from tensorflow.keras import backend as K"
   ]
  },
  {
   "cell_type": "code",
   "execution_count": 3,
   "metadata": {},
   "outputs": [
    {
     "name": "stdout",
     "output_type": "stream",
     "text": [
      "x_train shape: (60000, 28, 28, 1)\n",
      "60000 train samples\n",
      "10000 test samples\n"
     ]
    }
   ],
   "source": [
    "batch_size = 128\n",
    "num_classes = 10\n",
    "epochs = 12\n",
    "# input image dimensions\n",
    "img_rows, img_cols = 28, 28\n",
    "# the data, split between train and test sets\n",
    "(x_train, y_train), (x_test, y_test) = mnist.load_data()\n",
    "\n",
    "if K.image_data_format() == 'channels_first':\n",
    "    x_train = x_train.reshape(x_train.shape[0], 1, img_rows, img_cols)\n",
    "    x_test = x_test.reshape(x_test.shape[0], 1, img_rows, img_cols)\n",
    "    input_shape = (1, img_rows, img_cols)\n",
    "else:\n",
    "    x_train = x_train.reshape(x_train.shape[0], img_rows, img_cols, 1)\n",
    "    x_test = x_test.reshape(x_test.shape[0], img_rows, img_cols, 1)\n",
    "    input_shape = (img_rows, img_cols, 1)\n",
    "\n",
    "x_train = x_train.astype('float32')\n",
    "x_test = x_test.astype('float32')\n",
    "x_train /= 255\n",
    "x_test /= 255\n",
    "print('x_train shape:', x_train.shape)\n",
    "print(x_train.shape[0], 'train samples')\n",
    "print(x_test.shape[0], 'test samples')\n",
    "\n",
    "# convert class vectors to binary class matrices\n",
    "y_train = keras.utils.to_categorical(y_train, num_classes)\n",
    "y_test = keras.utils.to_categorical(y_test, num_classes)\n"
   ]
  },
  {
   "cell_type": "code",
   "execution_count": 18,
   "metadata": {},
   "outputs": [],
   "source": [
    "model = Sequential()\n",
    "model.add(Conv2D(32, kernel_size=(3, 3),\n",
    "                 activation='relu',\n",
    "                 input_shape=input_shape))\n",
    "model.add(Conv2D(64, (3, 3), activation='relu'))\n",
    "model.add(MaxPooling2D(pool_size=(2, 2)))\n",
    "model.add(Dropout(0.25))\n",
    "model.add(Flatten())\n",
    "model.add(Dense(128, activation='relu'))\n",
    "model.add(Dropout(0.5))\n",
    "model.add(Dense(num_classes, activation='softmax'))\n",
    "\n",
    "model.compile(loss=tf.keras.losses.categorical_crossentropy,\n",
    "              optimizer=tf.keras.optimizers.Adadelta(),\n",
    "              metrics=['accuracy'])"
   ]
  },
  {
   "cell_type": "code",
   "execution_count": 23,
   "metadata": {},
   "outputs": [
    {
     "name": "stdout",
     "output_type": "stream",
     "text": [
      "Model: \"model_1\"\n",
      "_________________________________________________________________\n",
      "Layer (type)                 Output Shape              Param #   \n",
      "=================================================================\n",
      "input_2 (InputLayer)         [(None, 224, 224, 3)]     0         \n",
      "_________________________________________________________________\n",
      "separable_conv2d (SeparableC (None, 222, 222, 32)      155       \n",
      "_________________________________________________________________\n",
      "separable_conv2d_1 (Separabl (None, 220, 220, 64)      2400      \n",
      "=================================================================\n",
      "Total params: 2,555\n",
      "Trainable params: 2,555\n",
      "Non-trainable params: 0\n",
      "_________________________________________________________________\n"
     ]
    }
   ],
   "source": [
    "model.summary()"
   ]
  },
  {
   "cell_type": "code",
   "execution_count": 19,
   "metadata": {
    "scrolled": true
   },
   "outputs": [
    {
     "name": "stdout",
     "output_type": "stream",
     "text": [
      "Train on 60000 samples, validate on 10000 samples\n",
      "Epoch 1/12\n",
      "60000/60000 [==============================] - 138s 2ms/sample - loss: 2.2816 - acc: 0.1505 - val_loss: 2.2483 - val_acc: 0.3522\n",
      "Epoch 2/12\n",
      "60000/60000 [==============================] - 138s 2ms/sample - loss: 2.2266 - acc: 0.2633 - val_loss: 2.1813 - val_acc: 0.4977\n",
      "Epoch 3/12\n",
      "60000/60000 [==============================] - 152s 3ms/sample - loss: 2.1584 - acc: 0.3635 - val_loss: 2.0957 - val_acc: 0.5737\n",
      "Epoch 4/12\n",
      "60000/60000 [==============================] - 148s 2ms/sample - loss: 2.0677 - acc: 0.4493 - val_loss: 1.9801 - val_acc: 0.6315\n",
      "Epoch 5/12\n",
      "60000/60000 [==============================] - 136s 2ms/sample - loss: 1.9466 - acc: 0.5121 - val_loss: 1.8256 - val_acc: 0.6900\n",
      "Epoch 6/12\n",
      "60000/60000 [==============================] - 138s 2ms/sample - loss: 1.7934 - acc: 0.5567 - val_loss: 1.6311 - val_acc: 0.7369\n",
      "Epoch 7/12\n",
      "60000/60000 [==============================] - 137s 2ms/sample - loss: 1.6158 - acc: 0.5962 - val_loss: 1.4166 - val_acc: 0.7696\n",
      "Epoch 8/12\n",
      "60000/60000 [==============================] - 133s 2ms/sample - loss: 1.4381 - acc: 0.6273 - val_loss: 1.2139 - val_acc: 0.7883\n",
      "Epoch 9/12\n",
      "60000/60000 [==============================] - 132s 2ms/sample - loss: 1.2877 - acc: 0.6506 - val_loss: 1.0473 - val_acc: 0.8046\n",
      "Epoch 10/12\n",
      "60000/60000 [==============================] - 132s 2ms/sample - loss: 1.1629 - acc: 0.6740 - val_loss: 0.9167 - val_acc: 0.8148\n",
      "Epoch 11/12\n",
      "60000/60000 [==============================] - 132s 2ms/sample - loss: 1.0676 - acc: 0.6926 - val_loss: 0.8179 - val_acc: 0.8239\n",
      "Epoch 12/12\n",
      "60000/60000 [==============================] - 133s 2ms/sample - loss: 0.9897 - acc: 0.7095 - val_loss: 0.7414 - val_acc: 0.8337\n",
      "Test loss: 0.7413812887191773\n",
      "Test accuracy: 0.8337\n"
     ]
    }
   ],
   "source": [
    "model.fit(x_train, y_train,\n",
    "          batch_size=batch_size,\n",
    "          epochs=epochs,\n",
    "          verbose=1,\n",
    "          validation_data=(x_test, y_test))\n",
    "score = model.evaluate(x_test, y_test, verbose=0)\n",
    "print('Test loss:', score[0])\n",
    "print('Test accuracy:', score[1])"
   ]
  },
  {
   "cell_type": "markdown",
   "metadata": {},
   "source": [
    "# 使用CNN完成 CIFAR - 10 资料集预测"
   ]
  },
  {
   "cell_type": "markdown",
   "metadata": {},
   "source": [
    "### Cifar- 10\n",
    "- 如同先前課程中的 Scikit-learn.datasets，深度學習的影像資料集以 MNIST (⼿手寫數字辨識) 與 Cifar-10 (⾃然影像分類) 最為常見\n",
    "- Cifar-10 是 10 個類別，影像⼤小為 32x32 的⼀個輕量資料集，非常適合拿來做深度學習\n",
    "\n",
    "<img src=\"imgs/keras17_Convolution layers3.png\" width=\"100%\">"
   ]
  },
  {
   "cell_type": "code",
   "execution_count": 24,
   "metadata": {},
   "outputs": [],
   "source": [
    "import keras\n",
    "from keras.datasets import cifar10\n",
    "from tensorflow.keras.models import Sequential\n",
    "from tensorflow.keras.layers import Dense, Dropout, Activation, Flatten\n",
    "from tensorflow.keras.layers import Conv2D, MaxPooling2D\n",
    "from tensorflow.keras.optimizers import RMSprop, Adam\n",
    "import os"
   ]
  },
  {
   "cell_type": "code",
   "execution_count": 25,
   "metadata": {},
   "outputs": [
    {
     "name": "stdout",
     "output_type": "stream",
     "text": [
      "x_train shape: (50000, 32, 32, 3)\n",
      "50000 train samples\n",
      "10000 test samples\n"
     ]
    }
   ],
   "source": [
    "batch_size = 128 # batch 的大小，如果出現 OOM error，請降低這個值\n",
    "num_classes = 10 # 類別的數量，Cifar 10 共有 10 個類別\n",
    "epochs = 10 # 訓練的 epochs 數量\n",
    "\n",
    "# 讀取資料並檢視\n",
    "(x_train, y_train), (x_test, y_test) = cifar10.load_data()\n",
    "print('x_train shape:', x_train.shape)\n",
    "print(x_train.shape[0], 'train samples')\n",
    "print(x_test.shape[0], 'test samples')\n",
    "\n",
    "# 對 label 進行 one-hot encoding (y_trian 原本是純數字)\n",
    "y_train = keras.utils.to_categorical(y_train, num_classes)\n",
    "y_test = keras.utils.to_categorical(y_test, num_classes)"
   ]
  },
  {
   "cell_type": "markdown",
   "metadata": {},
   "source": [
    "## 首先我們使用一般的 DNN (MLP) 來訓練\n",
    "由於 DNN 只能輸入一維的資料，我們要先將影像進行攤平，若 (50000, 32, 32, 3) 的影像，攤平後會變成 (50000, 32*32*3) = (50000, 3072)"
   ]
  },
  {
   "cell_type": "code",
   "execution_count": 26,
   "metadata": {},
   "outputs": [
    {
     "name": "stdout",
     "output_type": "stream",
     "text": [
      "50000 train samples\n",
      "10000 test samples\n"
     ]
    }
   ],
   "source": [
    "# 將資料攤平成一維資料\n",
    "x_train = x_train.reshape(50000, 3072) \n",
    "x_test = x_test.reshape(10000, 3072)\n",
    "\n",
    "# 將資料變為 float32 並標準化\n",
    "x_train = x_train.astype('float32')\n",
    "x_test = x_test.astype('float32')\n",
    "x_train /= 255\n",
    "x_test /= 255\n",
    "print(x_train.shape[0], 'train samples')\n",
    "print(x_test.shape[0], 'test samples')"
   ]
  },
  {
   "cell_type": "code",
   "execution_count": 27,
   "metadata": {},
   "outputs": [
    {
     "name": "stdout",
     "output_type": "stream",
     "text": [
      "Model: \"sequential_12\"\n",
      "_________________________________________________________________\n",
      "Layer (type)                 Output Shape              Param #   \n",
      "=================================================================\n",
      "dense_24 (Dense)             (None, 512)               1573376   \n",
      "_________________________________________________________________\n",
      "dropout_24 (Dropout)         (None, 512)               0         \n",
      "_________________________________________________________________\n",
      "dense_25 (Dense)             (None, 512)               262656    \n",
      "_________________________________________________________________\n",
      "dropout_25 (Dropout)         (None, 512)               0         \n",
      "_________________________________________________________________\n",
      "dense_26 (Dense)             (None, 10)                5130      \n",
      "=================================================================\n",
      "Total params: 1,841,162\n",
      "Trainable params: 1,841,162\n",
      "Non-trainable params: 0\n",
      "_________________________________________________________________\n",
      "Train on 50000 samples, validate on 10000 samples\n",
      "Epoch 1/10\n",
      "50000/50000 [==============================] - 53s 1ms/sample - loss: 2.1206 - acc: 0.2531 - val_loss: 1.9173 - val_acc: 0.2748acc: 0.253\n",
      "Epoch 2/10\n",
      "50000/50000 [==============================] - 49s 982us/sample - loss: 1.8531 - acc: 0.3308 - val_loss: 1.7646 - val_acc: 0.3750\n",
      "Epoch 3/10\n",
      "50000/50000 [==============================] - 50s 1ms/sample - loss: 1.7767 - acc: 0.3614 - val_loss: 1.7680 - val_acc: 0.3511\n",
      "Epoch 4/10\n",
      "50000/50000 [==============================] - 50s 1ms/sample - loss: 1.7295 - acc: 0.3785 - val_loss: 1.6385 - val_acc: 0.4203\n",
      "Epoch 5/10\n",
      "50000/50000 [==============================] - 50s 1ms/sample - loss: 1.6963 - acc: 0.3927 - val_loss: 1.6047 - val_acc: 0.4360\n",
      "Epoch 6/10\n",
      "50000/50000 [==============================] - 51s 1ms/sample - loss: 1.6653 - acc: 0.4029 - val_loss: 1.6221 - val_acc: 0.4210\n",
      "Epoch 7/10\n",
      "50000/50000 [==============================] - 50s 1ms/sample - loss: 1.6452 - acc: 0.4138 - val_loss: 1.6117 - val_acc: 0.4315\n",
      "Epoch 8/10\n",
      "50000/50000 [==============================] - 50s 991us/sample - loss: 1.6307 - acc: 0.4151 - val_loss: 1.5624 - val_acc: 0.4698\n",
      "Epoch 9/10\n",
      "50000/50000 [==============================] - 49s 989us/sample - loss: 1.6133 - acc: 0.4217 - val_loss: 1.5729 - val_acc: 0.4447\n",
      "Epoch 10/10\n",
      "50000/50000 [==============================] - 45s 908us/sample - loss: 1.6045 - acc: 0.4271 - val_loss: 1.5415 - val_acc: 0.4531\n",
      "Test loss: 1.541474638557434\n",
      "Test accuracy: 0.4531\n"
     ]
    }
   ],
   "source": [
    "model = Sequential()\n",
    "model.add(Dense(512, activation='relu', input_shape=(3072,)))\n",
    "model.add(Dropout(0.2))\n",
    "model.add(Dense(512, activation='relu'))\n",
    "model.add(Dropout(0.2))\n",
    "model.add(Dense(num_classes, activation='softmax'))\n",
    "\n",
    "model.summary()\n",
    "\n",
    "model.compile(loss='categorical_crossentropy',\n",
    "              optimizer=RMSprop(),\n",
    "              metrics=['accuracy'])\n",
    "\n",
    "history = model.fit(x_train, y_train,\n",
    "                    batch_size=batch_size,\n",
    "                    epochs=epochs,\n",
    "                    verbose=1,\n",
    "                    validation_data=(x_test, y_test))\n",
    "score = model.evaluate(x_test, y_test, verbose=0)\n",
    "print('Test loss:', score[0])\n",
    "print('Test accuracy:', score[1])"
   ]
  },
  {
   "cell_type": "code",
   "execution_count": 28,
   "metadata": {},
   "outputs": [
    {
     "name": "stdout",
     "output_type": "stream",
     "text": [
      "x_train shape: (50000, 32, 32, 3)\n",
      "50000 train samples\n",
      "10000 test samples\n"
     ]
    }
   ],
   "source": [
    "(x_train, y_train), (x_test, y_test) = cifar10.load_data()\n",
    "print('x_train shape:', x_train.shape)\n",
    "print(x_train.shape[0], 'train samples')\n",
    "print(x_test.shape[0], 'test samples')\n",
    "x_train = x_train.astype('float32')\n",
    "x_test = x_test.astype('float32')\n",
    "x_train /= 255\n",
    "x_test /= 255\n",
    "\n",
    "# Convert class vectors to binary class matrices.\n",
    "y_train = keras.utils.to_categorical(y_train, num_classes)\n",
    "y_test = keras.utils.to_categorical(y_test, num_classes)"
   ]
  },
  {
   "cell_type": "code",
   "execution_count": 29,
   "metadata": {},
   "outputs": [
    {
     "name": "stdout",
     "output_type": "stream",
     "text": [
      "Model: \"sequential_13\"\n",
      "_________________________________________________________________\n",
      "Layer (type)                 Output Shape              Param #   \n",
      "=================================================================\n",
      "conv2d_26 (Conv2D)           (None, 32, 32, 32)        896       \n",
      "_________________________________________________________________\n",
      "activation (Activation)      (None, 32, 32, 32)        0         \n",
      "_________________________________________________________________\n",
      "conv2d_27 (Conv2D)           (None, 30, 30, 32)        9248      \n",
      "_________________________________________________________________\n",
      "activation_1 (Activation)    (None, 30, 30, 32)        0         \n",
      "_________________________________________________________________\n",
      "max_pooling2d_12 (MaxPooling (None, 15, 15, 32)        0         \n",
      "_________________________________________________________________\n",
      "dropout_26 (Dropout)         (None, 15, 15, 32)        0         \n",
      "_________________________________________________________________\n",
      "conv2d_28 (Conv2D)           (None, 15, 15, 64)        18496     \n",
      "_________________________________________________________________\n",
      "activation_2 (Activation)    (None, 15, 15, 64)        0         \n",
      "_________________________________________________________________\n",
      "conv2d_29 (Conv2D)           (None, 13, 13, 64)        36928     \n",
      "_________________________________________________________________\n",
      "activation_3 (Activation)    (None, 13, 13, 64)        0         \n",
      "_________________________________________________________________\n",
      "max_pooling2d_13 (MaxPooling (None, 6, 6, 64)          0         \n",
      "_________________________________________________________________\n",
      "dropout_27 (Dropout)         (None, 6, 6, 64)          0         \n",
      "_________________________________________________________________\n",
      "flatten_12 (Flatten)         (None, 2304)              0         \n",
      "_________________________________________________________________\n",
      "dense_27 (Dense)             (None, 512)               1180160   \n",
      "_________________________________________________________________\n",
      "activation_4 (Activation)    (None, 512)               0         \n",
      "_________________________________________________________________\n",
      "dropout_28 (Dropout)         (None, 512)               0         \n",
      "_________________________________________________________________\n",
      "dense_28 (Dense)             (None, 10)                5130      \n",
      "_________________________________________________________________\n",
      "activation_5 (Activation)    (None, 10)                0         \n",
      "=================================================================\n",
      "Total params: 1,250,858\n",
      "Trainable params: 1,250,858\n",
      "Non-trainable params: 0\n",
      "_________________________________________________________________\n",
      "Train on 50000 samples, validate on 10000 samples\n",
      "Epoch 1/10\n",
      "50000/50000 [==============================] - 191s 4ms/sample - loss: 1.7550 - acc: 0.3611 - val_loss: 1.4184 - val_acc: 0.4836\n",
      "Epoch 2/10\n",
      "50000/50000 [==============================] - 189s 4ms/sample - loss: 1.3402 - acc: 0.5245 - val_loss: 1.3796 - val_acc: 0.5173\n",
      "Epoch 3/10\n",
      "50000/50000 [==============================] - 189s 4ms/sample - loss: 1.1376 - acc: 0.5984 - val_loss: 0.9880 - val_acc: 0.6549\n",
      "Epoch 4/10\n",
      "50000/50000 [==============================] - 200s 4ms/sample - loss: 0.9919 - acc: 0.6536 - val_loss: 0.8941 - val_acc: 0.6928\n",
      "Epoch 5/10\n",
      "50000/50000 [==============================] - 212s 4ms/sample - loss: 0.8963 - acc: 0.6843 - val_loss: 0.9044 - val_acc: 0.6889\n",
      "Epoch 6/10\n",
      "50000/50000 [==============================] - 192s 4ms/sample - loss: 0.8247 - acc: 0.7114 - val_loss: 0.8786 - val_acc: 0.7064\n",
      "Epoch 7/10\n",
      "50000/50000 [==============================] - 191s 4ms/sample - loss: 0.7726 - acc: 0.7319 - val_loss: 0.7707 - val_acc: 0.7380\n",
      "Epoch 8/10\n",
      "50000/50000 [==============================] - 191s 4ms/sample - loss: 0.7291 - acc: 0.7454 - val_loss: 0.7449 - val_acc: 0.7456\n",
      "Epoch 9/10\n",
      "50000/50000 [==============================] - 191s 4ms/sample - loss: 0.6894 - acc: 0.7586 - val_loss: 0.7642 - val_acc: 0.7485\n",
      "Epoch 10/10\n",
      "50000/50000 [==============================] - 192s 4ms/sample - loss: 0.6648 - acc: 0.7724 - val_loss: 0.7741 - val_acc: 0.7403\n",
      "Test loss: 0.774075314617157\n",
      "Test accuracy: 0.7403\n"
     ]
    }
   ],
   "source": [
    "model = Sequential()\n",
    "model.add(Conv2D(32, (3, 3), padding='same',\n",
    "                 input_shape=x_train.shape[1:]))\n",
    "model.add(Activation('relu'))\n",
    "model.add(Conv2D(32, (3, 3)))\n",
    "model.add(Activation('relu'))\n",
    "model.add(MaxPooling2D(pool_size=(2, 2)))\n",
    "model.add(Dropout(0.25))\n",
    "\n",
    "model.add(Conv2D(64, (3, 3), padding='same'))\n",
    "model.add(Activation('relu'))\n",
    "model.add(Conv2D(64, (3, 3)))\n",
    "model.add(Activation('relu'))\n",
    "model.add(MaxPooling2D(pool_size=(2, 2)))\n",
    "model.add(Dropout(0.25))\n",
    "\n",
    "model.add(Flatten())\n",
    "model.add(Dense(512))\n",
    "model.add(Activation('relu'))\n",
    "model.add(Dropout(0.5))\n",
    "model.add(Dense(num_classes))\n",
    "model.add(Activation('softmax'))\n",
    "model.summary()\n",
    "\n",
    "model.compile(loss='categorical_crossentropy',\n",
    "              optimizer=RMSprop(),\n",
    "              metrics=['accuracy'])\n",
    "\n",
    "history = model.fit(x_train, y_train,\n",
    "                    batch_size=batch_size,\n",
    "                    epochs=epochs,\n",
    "                    verbose=1,\n",
    "                    validation_data=(x_test, y_test))\n",
    "score = model.evaluate(x_test, y_test, verbose=0)\n",
    "print('Test loss:', score[0])\n",
    "print('Test accuracy:', score[1])"
   ]
  },
  {
   "cell_type": "markdown",
   "metadata": {},
   "source": [
    "## 同樣運算 10 個 epochs，但 CNN 在 test data 的準確率顯著優於 DNN!"
   ]
  },
  {
   "cell_type": "code",
   "execution_count": null,
   "metadata": {},
   "outputs": [],
   "source": []
  }
 ],
 "metadata": {
  "kernelspec": {
   "display_name": "Python 3",
   "language": "python",
   "name": "python3"
  },
  "language_info": {
   "codemirror_mode": {
    "name": "ipython",
    "version": 3
   },
   "file_extension": ".py",
   "mimetype": "text/x-python",
   "name": "python",
   "nbconvert_exporter": "python",
   "pygments_lexer": "ipython3",
   "version": "3.7.3"
  }
 },
 "nbformat": 4,
 "nbformat_minor": 2
}
